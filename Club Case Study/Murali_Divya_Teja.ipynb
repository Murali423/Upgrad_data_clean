{
 "cells": [
  {
   "cell_type": "markdown",
   "metadata": {},
   "source": [
    "# Leading Club Case Study of Risk Analysis for Consumer Finance Company"
   ]
  },
  {
   "cell_type": "markdown",
   "metadata": {},
   "source": [
    "__participents:__\n",
    "1. Murali Divya Teja \n",
    "2. Alux paul"
   ]
  },
  {
   "cell_type": "markdown",
   "metadata": {},
   "source": [
    "You work for a consumer finance company which specialises in lending various types of loans to urban customers. When the company receives a loan application, the company has to make a decision for loan approval based on the applicant’s profile. Two types of risks are associated with the bank’s decision:\n",
    "\n",
    "If the applicant is likely to repay the loan, then not approving the loan results in a loss of business to the company\n",
    "\n",
    "If the applicant is not likely to repay the loan, i.e. he/she is likely to default, then approving the loan may lead to a financial loss for the company\n",
    "\n",
    " \n",
    "\n",
    "The data given below contains the information about past loan applicants and whether they ‘defaulted’ or not. The aim is to identify patterns which indicate if a person is likely to default, which may be used for taking actions such as denying the loan, reducing the amount of loan, lending (to risky applicants) at a higher interest rate, etc."
   ]
  },
  {
   "cell_type": "markdown",
   "metadata": {},
   "source": [
    "When a person applies for a loan, there are two types of decisions that could be taken by the company:\n",
    "\n",
    "Loan accepted: If the company approves the loan, there are 3 possible scenarios described below:\n",
    "\n",
    "__Fully paid__: Applicant has fully paid the loan (the principal and the interest rate)\n",
    "\n",
    "__Current__: Applicant is in the process of paying the instalments, i.e. the tenure of the loan is not yet completed. These candidates are not labelled as 'defaulted'.\n",
    "\n",
    "__Charged-off__: Applicant has not paid the instalments in due time for a long period of time, i.e. he/she has defaulted on the loan \n",
    "\n",
    "Loan rejected: The company had rejected the loan (because the candidate does not meet their requirements etc.). Since the loan was rejected, there is no transactional history of those applicants with the company and so this data is not available with the company (and thus in this dataset)"
   ]
  },
  {
   "cell_type": "code",
   "execution_count": 1,
   "metadata": {},
   "outputs": [],
   "source": [
    "import numpy as np\n",
    "import pandas as pd\n",
    "import matplotlib.pyplot as plt\n",
    "import seaborn as sns"
   ]
  },
  {
   "cell_type": "code",
   "execution_count": 2,
   "metadata": {},
   "outputs": [],
   "source": [
    "import chardet"
   ]
  },
  {
   "cell_type": "code",
   "execution_count": 3,
   "metadata": {},
   "outputs": [
    {
     "name": "stdout",
     "output_type": "stream",
     "text": [
      "{'encoding': 'ascii', 'confidence': 1.0, 'language': ''}\n"
     ]
    }
   ],
   "source": [
    "with open(\"loan.csv\", 'rb') as rawdata:\n",
    "    result = chardet.detect(rawdata.read(10000))\n",
    "\n",
    "# check what the character encoding might be\n",
    "print(result)"
   ]
  },
  {
   "cell_type": "markdown",
   "metadata": {},
   "source": [
    "# Data Understanding"
   ]
  },
  {
   "cell_type": "code",
   "execution_count": 4,
   "metadata": {},
   "outputs": [
    {
     "name": "stderr",
     "output_type": "stream",
     "text": [
      "C:\\Users\\hp\\anaconda3\\lib\\site-packages\\IPython\\core\\interactiveshell.py:3071: DtypeWarning: Columns (47) have mixed types.Specify dtype option on import or set low_memory=False.\n",
      "  has_raised = await self.run_ast_nodes(code_ast.body, cell_name,\n"
     ]
    }
   ],
   "source": [
    "# loading the loan.csv content in dataframe as loan_df\n",
    "loan_df  = pd.read_csv('loan.csv')"
   ]
  },
  {
   "cell_type": "code",
   "execution_count": 5,
   "metadata": {},
   "outputs": [
    {
     "data": {
      "text/html": [
       "<div>\n",
       "<style scoped>\n",
       "    .dataframe tbody tr th:only-of-type {\n",
       "        vertical-align: middle;\n",
       "    }\n",
       "\n",
       "    .dataframe tbody tr th {\n",
       "        vertical-align: top;\n",
       "    }\n",
       "\n",
       "    .dataframe thead th {\n",
       "        text-align: right;\n",
       "    }\n",
       "</style>\n",
       "<table border=\"1\" class=\"dataframe\">\n",
       "  <thead>\n",
       "    <tr style=\"text-align: right;\">\n",
       "      <th></th>\n",
       "      <th>id</th>\n",
       "      <th>member_id</th>\n",
       "      <th>loan_amnt</th>\n",
       "      <th>funded_amnt</th>\n",
       "      <th>funded_amnt_inv</th>\n",
       "      <th>term</th>\n",
       "      <th>int_rate</th>\n",
       "      <th>installment</th>\n",
       "      <th>grade</th>\n",
       "      <th>sub_grade</th>\n",
       "      <th>...</th>\n",
       "      <th>num_tl_90g_dpd_24m</th>\n",
       "      <th>num_tl_op_past_12m</th>\n",
       "      <th>pct_tl_nvr_dlq</th>\n",
       "      <th>percent_bc_gt_75</th>\n",
       "      <th>pub_rec_bankruptcies</th>\n",
       "      <th>tax_liens</th>\n",
       "      <th>tot_hi_cred_lim</th>\n",
       "      <th>total_bal_ex_mort</th>\n",
       "      <th>total_bc_limit</th>\n",
       "      <th>total_il_high_credit_limit</th>\n",
       "    </tr>\n",
       "  </thead>\n",
       "  <tbody>\n",
       "    <tr>\n",
       "      <th>0</th>\n",
       "      <td>1077501</td>\n",
       "      <td>1296599</td>\n",
       "      <td>5000</td>\n",
       "      <td>5000</td>\n",
       "      <td>4975.0</td>\n",
       "      <td>36 months</td>\n",
       "      <td>10.65%</td>\n",
       "      <td>162.87</td>\n",
       "      <td>B</td>\n",
       "      <td>B2</td>\n",
       "      <td>...</td>\n",
       "      <td>NaN</td>\n",
       "      <td>NaN</td>\n",
       "      <td>NaN</td>\n",
       "      <td>NaN</td>\n",
       "      <td>0.0</td>\n",
       "      <td>0.0</td>\n",
       "      <td>NaN</td>\n",
       "      <td>NaN</td>\n",
       "      <td>NaN</td>\n",
       "      <td>NaN</td>\n",
       "    </tr>\n",
       "    <tr>\n",
       "      <th>1</th>\n",
       "      <td>1077430</td>\n",
       "      <td>1314167</td>\n",
       "      <td>2500</td>\n",
       "      <td>2500</td>\n",
       "      <td>2500.0</td>\n",
       "      <td>60 months</td>\n",
       "      <td>15.27%</td>\n",
       "      <td>59.83</td>\n",
       "      <td>C</td>\n",
       "      <td>C4</td>\n",
       "      <td>...</td>\n",
       "      <td>NaN</td>\n",
       "      <td>NaN</td>\n",
       "      <td>NaN</td>\n",
       "      <td>NaN</td>\n",
       "      <td>0.0</td>\n",
       "      <td>0.0</td>\n",
       "      <td>NaN</td>\n",
       "      <td>NaN</td>\n",
       "      <td>NaN</td>\n",
       "      <td>NaN</td>\n",
       "    </tr>\n",
       "    <tr>\n",
       "      <th>2</th>\n",
       "      <td>1077175</td>\n",
       "      <td>1313524</td>\n",
       "      <td>2400</td>\n",
       "      <td>2400</td>\n",
       "      <td>2400.0</td>\n",
       "      <td>36 months</td>\n",
       "      <td>15.96%</td>\n",
       "      <td>84.33</td>\n",
       "      <td>C</td>\n",
       "      <td>C5</td>\n",
       "      <td>...</td>\n",
       "      <td>NaN</td>\n",
       "      <td>NaN</td>\n",
       "      <td>NaN</td>\n",
       "      <td>NaN</td>\n",
       "      <td>0.0</td>\n",
       "      <td>0.0</td>\n",
       "      <td>NaN</td>\n",
       "      <td>NaN</td>\n",
       "      <td>NaN</td>\n",
       "      <td>NaN</td>\n",
       "    </tr>\n",
       "    <tr>\n",
       "      <th>3</th>\n",
       "      <td>1076863</td>\n",
       "      <td>1277178</td>\n",
       "      <td>10000</td>\n",
       "      <td>10000</td>\n",
       "      <td>10000.0</td>\n",
       "      <td>36 months</td>\n",
       "      <td>13.49%</td>\n",
       "      <td>339.31</td>\n",
       "      <td>C</td>\n",
       "      <td>C1</td>\n",
       "      <td>...</td>\n",
       "      <td>NaN</td>\n",
       "      <td>NaN</td>\n",
       "      <td>NaN</td>\n",
       "      <td>NaN</td>\n",
       "      <td>0.0</td>\n",
       "      <td>0.0</td>\n",
       "      <td>NaN</td>\n",
       "      <td>NaN</td>\n",
       "      <td>NaN</td>\n",
       "      <td>NaN</td>\n",
       "    </tr>\n",
       "    <tr>\n",
       "      <th>4</th>\n",
       "      <td>1075358</td>\n",
       "      <td>1311748</td>\n",
       "      <td>3000</td>\n",
       "      <td>3000</td>\n",
       "      <td>3000.0</td>\n",
       "      <td>60 months</td>\n",
       "      <td>12.69%</td>\n",
       "      <td>67.79</td>\n",
       "      <td>B</td>\n",
       "      <td>B5</td>\n",
       "      <td>...</td>\n",
       "      <td>NaN</td>\n",
       "      <td>NaN</td>\n",
       "      <td>NaN</td>\n",
       "      <td>NaN</td>\n",
       "      <td>0.0</td>\n",
       "      <td>0.0</td>\n",
       "      <td>NaN</td>\n",
       "      <td>NaN</td>\n",
       "      <td>NaN</td>\n",
       "      <td>NaN</td>\n",
       "    </tr>\n",
       "  </tbody>\n",
       "</table>\n",
       "<p>5 rows × 111 columns</p>\n",
       "</div>"
      ],
      "text/plain": [
       "        id  member_id  loan_amnt  funded_amnt  funded_amnt_inv        term  \\\n",
       "0  1077501    1296599       5000         5000           4975.0   36 months   \n",
       "1  1077430    1314167       2500         2500           2500.0   60 months   \n",
       "2  1077175    1313524       2400         2400           2400.0   36 months   \n",
       "3  1076863    1277178      10000        10000          10000.0   36 months   \n",
       "4  1075358    1311748       3000         3000           3000.0   60 months   \n",
       "\n",
       "  int_rate  installment grade sub_grade  ... num_tl_90g_dpd_24m  \\\n",
       "0   10.65%       162.87     B        B2  ...                NaN   \n",
       "1   15.27%        59.83     C        C4  ...                NaN   \n",
       "2   15.96%        84.33     C        C5  ...                NaN   \n",
       "3   13.49%       339.31     C        C1  ...                NaN   \n",
       "4   12.69%        67.79     B        B5  ...                NaN   \n",
       "\n",
       "  num_tl_op_past_12m pct_tl_nvr_dlq  percent_bc_gt_75 pub_rec_bankruptcies  \\\n",
       "0                NaN            NaN               NaN                  0.0   \n",
       "1                NaN            NaN               NaN                  0.0   \n",
       "2                NaN            NaN               NaN                  0.0   \n",
       "3                NaN            NaN               NaN                  0.0   \n",
       "4                NaN            NaN               NaN                  0.0   \n",
       "\n",
       "  tax_liens tot_hi_cred_lim total_bal_ex_mort total_bc_limit  \\\n",
       "0       0.0             NaN               NaN            NaN   \n",
       "1       0.0             NaN               NaN            NaN   \n",
       "2       0.0             NaN               NaN            NaN   \n",
       "3       0.0             NaN               NaN            NaN   \n",
       "4       0.0             NaN               NaN            NaN   \n",
       "\n",
       "  total_il_high_credit_limit  \n",
       "0                        NaN  \n",
       "1                        NaN  \n",
       "2                        NaN  \n",
       "3                        NaN  \n",
       "4                        NaN  \n",
       "\n",
       "[5 rows x 111 columns]"
      ]
     },
     "execution_count": 5,
     "metadata": {},
     "output_type": "execute_result"
    }
   ],
   "source": [
    "loan_df.head()"
   ]
  },
  {
   "cell_type": "code",
   "execution_count": 6,
   "metadata": {},
   "outputs": [
    {
     "name": "stdout",
     "output_type": "stream",
     "text": [
      "(39717, 111)\n",
      "Index(['id', 'member_id', 'loan_amnt', 'funded_amnt', 'funded_amnt_inv',\n",
      "       'term', 'int_rate', 'installment', 'grade', 'sub_grade',\n",
      "       ...\n",
      "       'num_tl_90g_dpd_24m', 'num_tl_op_past_12m', 'pct_tl_nvr_dlq',\n",
      "       'percent_bc_gt_75', 'pub_rec_bankruptcies', 'tax_liens',\n",
      "       'tot_hi_cred_lim', 'total_bal_ex_mort', 'total_bc_limit',\n",
      "       'total_il_high_credit_limit'],\n",
      "      dtype='object', length=111)\n"
     ]
    }
   ],
   "source": [
    "print(loan_df.shape)\n",
    "print(loan_df.columns)"
   ]
  },
  {
   "cell_type": "code",
   "execution_count": 7,
   "metadata": {},
   "outputs": [
    {
     "data": {
      "text/html": [
       "<div>\n",
       "<style scoped>\n",
       "    .dataframe tbody tr th:only-of-type {\n",
       "        vertical-align: middle;\n",
       "    }\n",
       "\n",
       "    .dataframe tbody tr th {\n",
       "        vertical-align: top;\n",
       "    }\n",
       "\n",
       "    .dataframe thead th {\n",
       "        text-align: right;\n",
       "    }\n",
       "</style>\n",
       "<table border=\"1\" class=\"dataframe\">\n",
       "  <thead>\n",
       "    <tr style=\"text-align: right;\">\n",
       "      <th></th>\n",
       "      <th>id</th>\n",
       "      <th>member_id</th>\n",
       "      <th>loan_amnt</th>\n",
       "      <th>funded_amnt</th>\n",
       "      <th>funded_amnt_inv</th>\n",
       "      <th>installment</th>\n",
       "      <th>annual_inc</th>\n",
       "      <th>dti</th>\n",
       "      <th>delinq_2yrs</th>\n",
       "      <th>inq_last_6mths</th>\n",
       "      <th>...</th>\n",
       "      <th>num_tl_90g_dpd_24m</th>\n",
       "      <th>num_tl_op_past_12m</th>\n",
       "      <th>pct_tl_nvr_dlq</th>\n",
       "      <th>percent_bc_gt_75</th>\n",
       "      <th>pub_rec_bankruptcies</th>\n",
       "      <th>tax_liens</th>\n",
       "      <th>tot_hi_cred_lim</th>\n",
       "      <th>total_bal_ex_mort</th>\n",
       "      <th>total_bc_limit</th>\n",
       "      <th>total_il_high_credit_limit</th>\n",
       "    </tr>\n",
       "  </thead>\n",
       "  <tbody>\n",
       "    <tr>\n",
       "      <th>count</th>\n",
       "      <td>3.971700e+04</td>\n",
       "      <td>3.971700e+04</td>\n",
       "      <td>39717.000000</td>\n",
       "      <td>39717.000000</td>\n",
       "      <td>39717.000000</td>\n",
       "      <td>39717.000000</td>\n",
       "      <td>3.971700e+04</td>\n",
       "      <td>39717.000000</td>\n",
       "      <td>39717.000000</td>\n",
       "      <td>39717.000000</td>\n",
       "      <td>...</td>\n",
       "      <td>0.0</td>\n",
       "      <td>0.0</td>\n",
       "      <td>0.0</td>\n",
       "      <td>0.0</td>\n",
       "      <td>39020.000000</td>\n",
       "      <td>39678.0</td>\n",
       "      <td>0.0</td>\n",
       "      <td>0.0</td>\n",
       "      <td>0.0</td>\n",
       "      <td>0.0</td>\n",
       "    </tr>\n",
       "    <tr>\n",
       "      <th>mean</th>\n",
       "      <td>6.831319e+05</td>\n",
       "      <td>8.504636e+05</td>\n",
       "      <td>11219.443815</td>\n",
       "      <td>10947.713196</td>\n",
       "      <td>10397.448868</td>\n",
       "      <td>324.561922</td>\n",
       "      <td>6.896893e+04</td>\n",
       "      <td>13.315130</td>\n",
       "      <td>0.146512</td>\n",
       "      <td>0.869200</td>\n",
       "      <td>...</td>\n",
       "      <td>NaN</td>\n",
       "      <td>NaN</td>\n",
       "      <td>NaN</td>\n",
       "      <td>NaN</td>\n",
       "      <td>0.043260</td>\n",
       "      <td>0.0</td>\n",
       "      <td>NaN</td>\n",
       "      <td>NaN</td>\n",
       "      <td>NaN</td>\n",
       "      <td>NaN</td>\n",
       "    </tr>\n",
       "    <tr>\n",
       "      <th>std</th>\n",
       "      <td>2.106941e+05</td>\n",
       "      <td>2.656783e+05</td>\n",
       "      <td>7456.670694</td>\n",
       "      <td>7187.238670</td>\n",
       "      <td>7128.450439</td>\n",
       "      <td>208.874874</td>\n",
       "      <td>6.379377e+04</td>\n",
       "      <td>6.678594</td>\n",
       "      <td>0.491812</td>\n",
       "      <td>1.070219</td>\n",
       "      <td>...</td>\n",
       "      <td>NaN</td>\n",
       "      <td>NaN</td>\n",
       "      <td>NaN</td>\n",
       "      <td>NaN</td>\n",
       "      <td>0.204324</td>\n",
       "      <td>0.0</td>\n",
       "      <td>NaN</td>\n",
       "      <td>NaN</td>\n",
       "      <td>NaN</td>\n",
       "      <td>NaN</td>\n",
       "    </tr>\n",
       "    <tr>\n",
       "      <th>min</th>\n",
       "      <td>5.473400e+04</td>\n",
       "      <td>7.069900e+04</td>\n",
       "      <td>500.000000</td>\n",
       "      <td>500.000000</td>\n",
       "      <td>0.000000</td>\n",
       "      <td>15.690000</td>\n",
       "      <td>4.000000e+03</td>\n",
       "      <td>0.000000</td>\n",
       "      <td>0.000000</td>\n",
       "      <td>0.000000</td>\n",
       "      <td>...</td>\n",
       "      <td>NaN</td>\n",
       "      <td>NaN</td>\n",
       "      <td>NaN</td>\n",
       "      <td>NaN</td>\n",
       "      <td>0.000000</td>\n",
       "      <td>0.0</td>\n",
       "      <td>NaN</td>\n",
       "      <td>NaN</td>\n",
       "      <td>NaN</td>\n",
       "      <td>NaN</td>\n",
       "    </tr>\n",
       "    <tr>\n",
       "      <th>25%</th>\n",
       "      <td>5.162210e+05</td>\n",
       "      <td>6.667800e+05</td>\n",
       "      <td>5500.000000</td>\n",
       "      <td>5400.000000</td>\n",
       "      <td>5000.000000</td>\n",
       "      <td>167.020000</td>\n",
       "      <td>4.040400e+04</td>\n",
       "      <td>8.170000</td>\n",
       "      <td>0.000000</td>\n",
       "      <td>0.000000</td>\n",
       "      <td>...</td>\n",
       "      <td>NaN</td>\n",
       "      <td>NaN</td>\n",
       "      <td>NaN</td>\n",
       "      <td>NaN</td>\n",
       "      <td>0.000000</td>\n",
       "      <td>0.0</td>\n",
       "      <td>NaN</td>\n",
       "      <td>NaN</td>\n",
       "      <td>NaN</td>\n",
       "      <td>NaN</td>\n",
       "    </tr>\n",
       "    <tr>\n",
       "      <th>50%</th>\n",
       "      <td>6.656650e+05</td>\n",
       "      <td>8.508120e+05</td>\n",
       "      <td>10000.000000</td>\n",
       "      <td>9600.000000</td>\n",
       "      <td>8975.000000</td>\n",
       "      <td>280.220000</td>\n",
       "      <td>5.900000e+04</td>\n",
       "      <td>13.400000</td>\n",
       "      <td>0.000000</td>\n",
       "      <td>1.000000</td>\n",
       "      <td>...</td>\n",
       "      <td>NaN</td>\n",
       "      <td>NaN</td>\n",
       "      <td>NaN</td>\n",
       "      <td>NaN</td>\n",
       "      <td>0.000000</td>\n",
       "      <td>0.0</td>\n",
       "      <td>NaN</td>\n",
       "      <td>NaN</td>\n",
       "      <td>NaN</td>\n",
       "      <td>NaN</td>\n",
       "    </tr>\n",
       "    <tr>\n",
       "      <th>75%</th>\n",
       "      <td>8.377550e+05</td>\n",
       "      <td>1.047339e+06</td>\n",
       "      <td>15000.000000</td>\n",
       "      <td>15000.000000</td>\n",
       "      <td>14400.000000</td>\n",
       "      <td>430.780000</td>\n",
       "      <td>8.230000e+04</td>\n",
       "      <td>18.600000</td>\n",
       "      <td>0.000000</td>\n",
       "      <td>1.000000</td>\n",
       "      <td>...</td>\n",
       "      <td>NaN</td>\n",
       "      <td>NaN</td>\n",
       "      <td>NaN</td>\n",
       "      <td>NaN</td>\n",
       "      <td>0.000000</td>\n",
       "      <td>0.0</td>\n",
       "      <td>NaN</td>\n",
       "      <td>NaN</td>\n",
       "      <td>NaN</td>\n",
       "      <td>NaN</td>\n",
       "    </tr>\n",
       "    <tr>\n",
       "      <th>max</th>\n",
       "      <td>1.077501e+06</td>\n",
       "      <td>1.314167e+06</td>\n",
       "      <td>35000.000000</td>\n",
       "      <td>35000.000000</td>\n",
       "      <td>35000.000000</td>\n",
       "      <td>1305.190000</td>\n",
       "      <td>6.000000e+06</td>\n",
       "      <td>29.990000</td>\n",
       "      <td>11.000000</td>\n",
       "      <td>8.000000</td>\n",
       "      <td>...</td>\n",
       "      <td>NaN</td>\n",
       "      <td>NaN</td>\n",
       "      <td>NaN</td>\n",
       "      <td>NaN</td>\n",
       "      <td>2.000000</td>\n",
       "      <td>0.0</td>\n",
       "      <td>NaN</td>\n",
       "      <td>NaN</td>\n",
       "      <td>NaN</td>\n",
       "      <td>NaN</td>\n",
       "    </tr>\n",
       "  </tbody>\n",
       "</table>\n",
       "<p>8 rows × 87 columns</p>\n",
       "</div>"
      ],
      "text/plain": [
       "                 id     member_id     loan_amnt   funded_amnt  \\\n",
       "count  3.971700e+04  3.971700e+04  39717.000000  39717.000000   \n",
       "mean   6.831319e+05  8.504636e+05  11219.443815  10947.713196   \n",
       "std    2.106941e+05  2.656783e+05   7456.670694   7187.238670   \n",
       "min    5.473400e+04  7.069900e+04    500.000000    500.000000   \n",
       "25%    5.162210e+05  6.667800e+05   5500.000000   5400.000000   \n",
       "50%    6.656650e+05  8.508120e+05  10000.000000   9600.000000   \n",
       "75%    8.377550e+05  1.047339e+06  15000.000000  15000.000000   \n",
       "max    1.077501e+06  1.314167e+06  35000.000000  35000.000000   \n",
       "\n",
       "       funded_amnt_inv   installment    annual_inc           dti  \\\n",
       "count     39717.000000  39717.000000  3.971700e+04  39717.000000   \n",
       "mean      10397.448868    324.561922  6.896893e+04     13.315130   \n",
       "std        7128.450439    208.874874  6.379377e+04      6.678594   \n",
       "min           0.000000     15.690000  4.000000e+03      0.000000   \n",
       "25%        5000.000000    167.020000  4.040400e+04      8.170000   \n",
       "50%        8975.000000    280.220000  5.900000e+04     13.400000   \n",
       "75%       14400.000000    430.780000  8.230000e+04     18.600000   \n",
       "max       35000.000000   1305.190000  6.000000e+06     29.990000   \n",
       "\n",
       "        delinq_2yrs  inq_last_6mths  ...  num_tl_90g_dpd_24m  \\\n",
       "count  39717.000000    39717.000000  ...                 0.0   \n",
       "mean       0.146512        0.869200  ...                 NaN   \n",
       "std        0.491812        1.070219  ...                 NaN   \n",
       "min        0.000000        0.000000  ...                 NaN   \n",
       "25%        0.000000        0.000000  ...                 NaN   \n",
       "50%        0.000000        1.000000  ...                 NaN   \n",
       "75%        0.000000        1.000000  ...                 NaN   \n",
       "max       11.000000        8.000000  ...                 NaN   \n",
       "\n",
       "       num_tl_op_past_12m  pct_tl_nvr_dlq  percent_bc_gt_75  \\\n",
       "count                 0.0             0.0               0.0   \n",
       "mean                  NaN             NaN               NaN   \n",
       "std                   NaN             NaN               NaN   \n",
       "min                   NaN             NaN               NaN   \n",
       "25%                   NaN             NaN               NaN   \n",
       "50%                   NaN             NaN               NaN   \n",
       "75%                   NaN             NaN               NaN   \n",
       "max                   NaN             NaN               NaN   \n",
       "\n",
       "       pub_rec_bankruptcies  tax_liens  tot_hi_cred_lim  total_bal_ex_mort  \\\n",
       "count          39020.000000    39678.0              0.0                0.0   \n",
       "mean               0.043260        0.0              NaN                NaN   \n",
       "std                0.204324        0.0              NaN                NaN   \n",
       "min                0.000000        0.0              NaN                NaN   \n",
       "25%                0.000000        0.0              NaN                NaN   \n",
       "50%                0.000000        0.0              NaN                NaN   \n",
       "75%                0.000000        0.0              NaN                NaN   \n",
       "max                2.000000        0.0              NaN                NaN   \n",
       "\n",
       "       total_bc_limit  total_il_high_credit_limit  \n",
       "count             0.0                         0.0  \n",
       "mean              NaN                         NaN  \n",
       "std               NaN                         NaN  \n",
       "min               NaN                         NaN  \n",
       "25%               NaN                         NaN  \n",
       "50%               NaN                         NaN  \n",
       "75%               NaN                         NaN  \n",
       "max               NaN                         NaN  \n",
       "\n",
       "[8 rows x 87 columns]"
      ]
     },
     "execution_count": 7,
     "metadata": {},
     "output_type": "execute_result"
    }
   ],
   "source": [
    "loan_df.describe()"
   ]
  },
  {
   "cell_type": "code",
   "execution_count": 8,
   "metadata": {},
   "outputs": [
    {
     "name": "stdout",
     "output_type": "stream",
     "text": [
      "<class 'pandas.core.frame.DataFrame'>\n",
      "RangeIndex: 39717 entries, 0 to 39716\n",
      "Columns: 111 entries, id to total_il_high_credit_limit\n",
      "dtypes: float64(74), int64(13), object(24)\n",
      "memory usage: 33.6+ MB\n"
     ]
    }
   ],
   "source": [
    "loan_df.info()"
   ]
  },
  {
   "cell_type": "markdown",
   "metadata": {},
   "source": [
    "## Checking for null values in Loan_df"
   ]
  },
  {
   "cell_type": "code",
   "execution_count": 9,
   "metadata": {},
   "outputs": [
    {
     "data": {
      "text/plain": [
       "id                              0.0\n",
       "member_id                       0.0\n",
       "loan_amnt                       0.0\n",
       "funded_amnt                     0.0\n",
       "funded_amnt_inv                 0.0\n",
       "                              ...  \n",
       "tax_liens                       0.1\n",
       "tot_hi_cred_lim               100.0\n",
       "total_bal_ex_mort             100.0\n",
       "total_bc_limit                100.0\n",
       "total_il_high_credit_limit    100.0\n",
       "Length: 111, dtype: float64"
      ]
     },
     "execution_count": 9,
     "metadata": {},
     "output_type": "execute_result"
    }
   ],
   "source": [
    "round(100*(loan_df.isnull().sum()/len(loan_df.index)), 2)"
   ]
  },
  {
   "cell_type": "code",
   "execution_count": 10,
   "metadata": {},
   "outputs": [
    {
     "name": "stdout",
     "output_type": "stream",
     "text": [
      "[0.0, 0.0, 0.0, 0.0, 0.0, 0.0, 0.0, 0.0, 0.0, 0.0, 6.19, 2.71, 0.0, 0.0, 0.0, 0.0, 0.0, 0.0, 0.0, 32.58, 0.0, 0.03, 0.0, 0.0, 0.0, 0.0, 0.0, 0.0, 64.66, 92.99, 0.0, 0.0, 0.0, 0.13, 0.0, 0.0, 0.0, 0.0, 0.0, 0.0, 0.0, 0.0, 0.0, 0.0, 0.0, 0.18, 0.0, 97.13, 0.01, 0.14, 100.0, 0.0, 0.0, 100.0, 100.0, 100.0, 0.0, 100.0, 100.0, 100.0, 100.0, 100.0, 100.0, 100.0, 100.0, 100.0, 100.0, 100.0, 100.0, 100.0, 100.0, 100.0, 100.0, 100.0, 100.0, 100.0, 100.0, 100.0, 0.14, 0.0, 100.0, 100.0, 100.0, 100.0, 100.0, 100.0, 100.0, 100.0, 100.0, 100.0, 100.0, 100.0, 100.0, 100.0, 100.0, 100.0, 100.0, 100.0, 100.0, 100.0, 100.0, 100.0, 100.0, 100.0, 100.0, 1.75, 0.1, 100.0, 100.0, 100.0, 100.0]\n"
     ]
    }
   ],
   "source": [
    "print(list(round(100*(loan_df.isnull().sum()/len(loan_df.index)), 2)))"
   ]
  },
  {
   "cell_type": "markdown",
   "metadata": {},
   "source": [
    "Given loan dataframe contains most of the __nulls__ which is having __100% nulls___. and columns which have __50%__ null don't contribute to the Risk analysis. So __Drop__ the columns which doesn't contribute to __Risk Analysis__"
   ]
  },
  {
   "cell_type": "markdown",
   "metadata": {},
   "source": [
    "# Data Cleaning"
   ]
  },
  {
   "cell_type": "code",
   "execution_count": 11,
   "metadata": {},
   "outputs": [],
   "source": [
    "missing_col = round(100*(loan_df.isnull().sum()/len(loan_df.index)),2)\n"
   ]
  },
  {
   "cell_type": "code",
   "execution_count": 12,
   "metadata": {},
   "outputs": [
    {
     "data": {
      "text/plain": [
       "emp_title                       6.19\n",
       "emp_length                      2.71\n",
       "desc                           32.58\n",
       "title                           0.03\n",
       "mths_since_last_delinq         64.66\n",
       "                               ...  \n",
       "tax_liens                       0.10\n",
       "tot_hi_cred_lim               100.00\n",
       "total_bal_ex_mort             100.00\n",
       "total_bc_limit                100.00\n",
       "total_il_high_credit_limit    100.00\n",
       "Length: 68, dtype: float64"
      ]
     },
     "execution_count": 12,
     "metadata": {},
     "output_type": "execute_result"
    }
   ],
   "source": [
    "missing_col.loc[missing_col>0]"
   ]
  },
  {
   "cell_type": "code",
   "execution_count": 13,
   "metadata": {},
   "outputs": [
    {
     "name": "stdout",
     "output_type": "stream",
     "text": [
      "['mths_since_last_delinq', 'mths_since_last_record', 'next_pymnt_d', 'mths_since_last_major_derog', 'annual_inc_joint', 'dti_joint', 'verification_status_joint', 'tot_coll_amt', 'tot_cur_bal', 'open_acc_6m', 'open_il_6m', 'open_il_12m', 'open_il_24m', 'mths_since_rcnt_il', 'total_bal_il', 'il_util', 'open_rv_12m', 'open_rv_24m', 'max_bal_bc', 'all_util', 'total_rev_hi_lim', 'inq_fi', 'total_cu_tl', 'inq_last_12m', 'acc_open_past_24mths', 'avg_cur_bal', 'bc_open_to_buy', 'bc_util', 'mo_sin_old_il_acct', 'mo_sin_old_rev_tl_op', 'mo_sin_rcnt_rev_tl_op', 'mo_sin_rcnt_tl', 'mort_acc', 'mths_since_recent_bc', 'mths_since_recent_bc_dlq', 'mths_since_recent_inq', 'mths_since_recent_revol_delinq', 'num_accts_ever_120_pd', 'num_actv_bc_tl', 'num_actv_rev_tl', 'num_bc_sats', 'num_bc_tl', 'num_il_tl', 'num_op_rev_tl', 'num_rev_accts', 'num_rev_tl_bal_gt_0', 'num_sats', 'num_tl_120dpd_2m', 'num_tl_30dpd', 'num_tl_90g_dpd_24m', 'num_tl_op_past_12m', 'pct_tl_nvr_dlq', 'percent_bc_gt_75', 'tot_hi_cred_lim', 'total_bal_ex_mort', 'total_bc_limit', 'total_il_high_credit_limit']\n",
      "57\n"
     ]
    }
   ],
   "source": [
    "missing_cols = list(missing_col[missing_col>=50.00].index)\n",
    "print(missing_cols)\n",
    "print(len(missing_cols))"
   ]
  },
  {
   "cell_type": "code",
   "execution_count": 14,
   "metadata": {},
   "outputs": [
    {
     "data": {
      "text/plain": [
       "(39717, 54)"
      ]
     },
     "execution_count": 14,
     "metadata": {},
     "output_type": "execute_result"
    }
   ],
   "source": [
    "# Drop the columns which is having more than 50% data as NaN. store it in null_removed_df \n",
    "null_removed_df = loan_df.drop(missing_cols,axis=1)\n",
    "null_removed_df.shape"
   ]
  },
  {
   "cell_type": "code",
   "execution_count": 15,
   "metadata": {},
   "outputs": [
    {
     "data": {
      "text/plain": [
       "emp_title                      6.19\n",
       "emp_length                     2.71\n",
       "desc                          32.58\n",
       "title                          0.03\n",
       "revol_util                     0.13\n",
       "last_pymnt_d                   0.18\n",
       "last_credit_pull_d             0.01\n",
       "collections_12_mths_ex_med     0.14\n",
       "chargeoff_within_12_mths       0.14\n",
       "pub_rec_bankruptcies           1.75\n",
       "tax_liens                      0.10\n",
       "dtype: float64"
      ]
     },
     "execution_count": 15,
     "metadata": {},
     "output_type": "execute_result"
    }
   ],
   "source": [
    "missing_col_after_null_removal = round(100*(null_removed_df.isnull().sum()/len(null_removed_df.index)),2)\n",
    "missing_col_after_null_removal.loc[missing_col_after_null_removal>0]"
   ]
  },
  {
   "cell_type": "code",
   "execution_count": 16,
   "metadata": {},
   "outputs": [
    {
     "data": {
      "text/plain": [
       "2593                                                   NaN\n",
       "11537      Borrower added on 07/11/11 > This is to help...\n",
       "28791                                                  NaN\n",
       "4687                                                   NaN\n",
       "34411     557206 added on 10/15/09 > I am buying a moto...\n",
       "1158                                                   NaN\n",
       "2155                                                   NaN\n",
       "3437       Borrower added on 11/10/11 > This loan is to...\n",
       "14403                                                  NaN\n",
       "3916                                                   NaN\n",
       "7438       Borrower added on 09/13/11 > I would like to...\n",
       "22104      Borrower added on 12/16/10 > This is to help...\n",
       "30689      Borrower added on 04/14/10 > This loan is fo...\n",
       "16828                                                  NaN\n",
       "7339       Borrower added on 09/13/11 > This is a loan ...\n",
       "14526      Borrower added on 05/20/11 > Requesting this...\n",
       "10604      Borrower added on 07/27/11 > This loan will ...\n",
       "7639       Borrower added on 09/10/11 > I plan to use t...\n",
       "9608       Borrower added on 08/17/11 > Debt Consolidat...\n",
       "16461                                                  NaN\n",
       "14053      Borrower added on 05/31/11 > monthly budget ...\n",
       "6424                                                   NaN\n",
       "34388      558509 added on 10/16/09 > I am a Sales Mana...\n",
       "21412                                                  NaN\n",
       "21934      Borrower added on 12/20/10 > I've been at my...\n",
       "13222      Borrower added on 06/14/11 > I plan to use t...\n",
       "37388    At the present time I have several credit card...\n",
       "17096      Borrower added on 04/06/11 > Wedding expense...\n",
       "3213       Borrower added on 11/14/11 > Personal loan t...\n",
       "27062      Borrower added on 08/05/10 > I plan to use t...\n",
       "17797                                                  NaN\n",
       "13671      Borrower added on 06/08/11 > Will be able to...\n",
       "39467                   To remodel kitchens and bathrooms.\n",
       "23048                                                  NaN\n",
       "19305                                                  NaN\n",
       "29884      Borrower added on 05/12/10 > I plan to pay o...\n",
       "21867                                                  NaN\n",
       "17886                                                  NaN\n",
       "5367                                                   NaN\n",
       "10691                                                  NaN\n",
       "29548      Borrower added on 05/27/10 > Once this goes ...\n",
       "37888    Pay off Unsecured Loan of $3800.00 and Credit ...\n",
       "21399                                                  NaN\n",
       "10085                                                  NaN\n",
       "5548       Borrower added on 10/12/11 > Thank you in ad...\n",
       "1495       Borrower added on 12/01/11 > Helping pay off...\n",
       "21077                                                  NaN\n",
       "24111      Borrower added on 10/26/10 > This is my pers...\n",
       "39242    Recently accrued charges on my credit card due...\n",
       "1689       Borrower added on 12/02/11 > I have a very s...\n",
       "Name: desc, dtype: object"
      ]
     },
     "execution_count": 16,
     "metadata": {},
     "output_type": "execute_result"
    }
   ],
   "source": [
    "null_removed_df['desc'].sample(50)"
   ]
  },
  {
   "cell_type": "markdown",
   "metadata": {},
   "source": [
    "The column description contains the comments the applicant had written while applying for the loan. so we can remove the column"
   ]
  },
  {
   "cell_type": "code",
   "execution_count": 17,
   "metadata": {},
   "outputs": [
    {
     "data": {
      "text/plain": [
       "Index(['id', 'member_id', 'loan_amnt', 'funded_amnt', 'funded_amnt_inv',\n",
       "       'term', 'int_rate', 'installment', 'grade', 'sub_grade', 'emp_title',\n",
       "       'emp_length', 'home_ownership', 'annual_inc', 'verification_status',\n",
       "       'issue_d', 'loan_status', 'pymnt_plan', 'url', 'purpose', 'title',\n",
       "       'zip_code', 'addr_state', 'dti', 'delinq_2yrs', 'earliest_cr_line',\n",
       "       'inq_last_6mths', 'open_acc', 'pub_rec', 'revol_bal', 'revol_util',\n",
       "       'total_acc', 'initial_list_status', 'out_prncp', 'out_prncp_inv',\n",
       "       'total_pymnt', 'total_pymnt_inv', 'total_rec_prncp', 'total_rec_int',\n",
       "       'total_rec_late_fee', 'recoveries', 'collection_recovery_fee',\n",
       "       'last_pymnt_d', 'last_pymnt_amnt', 'last_credit_pull_d',\n",
       "       'collections_12_mths_ex_med', 'policy_code', 'application_type',\n",
       "       'acc_now_delinq', 'chargeoff_within_12_mths', 'delinq_amnt',\n",
       "       'pub_rec_bankruptcies', 'tax_liens'],\n",
       "      dtype='object')"
      ]
     },
     "execution_count": 17,
     "metadata": {},
     "output_type": "execute_result"
    }
   ],
   "source": [
    "null_removed_df = null_removed_df.drop('desc',axis=1)\n",
    "null_removed_df.columns"
   ]
  },
  {
   "cell_type": "code",
   "execution_count": 18,
   "metadata": {},
   "outputs": [
    {
     "data": {
      "text/plain": [
       "(39717, 53)"
      ]
     },
     "execution_count": 18,
     "metadata": {},
     "output_type": "execute_result"
    }
   ],
   "source": [
    "null_removed_df.shape"
   ]
  },
  {
   "cell_type": "code",
   "execution_count": 19,
   "metadata": {},
   "outputs": [
    {
     "data": {
      "text/html": [
       "<div>\n",
       "<style scoped>\n",
       "    .dataframe tbody tr th:only-of-type {\n",
       "        vertical-align: middle;\n",
       "    }\n",
       "\n",
       "    .dataframe tbody tr th {\n",
       "        vertical-align: top;\n",
       "    }\n",
       "\n",
       "    .dataframe thead th {\n",
       "        text-align: right;\n",
       "    }\n",
       "</style>\n",
       "<table border=\"1\" class=\"dataframe\">\n",
       "  <thead>\n",
       "    <tr style=\"text-align: right;\">\n",
       "      <th></th>\n",
       "      <th>id</th>\n",
       "      <th>member_id</th>\n",
       "      <th>loan_amnt</th>\n",
       "      <th>funded_amnt</th>\n",
       "      <th>funded_amnt_inv</th>\n",
       "      <th>installment</th>\n",
       "      <th>annual_inc</th>\n",
       "      <th>dti</th>\n",
       "      <th>delinq_2yrs</th>\n",
       "      <th>inq_last_6mths</th>\n",
       "      <th>...</th>\n",
       "      <th>recoveries</th>\n",
       "      <th>collection_recovery_fee</th>\n",
       "      <th>last_pymnt_amnt</th>\n",
       "      <th>collections_12_mths_ex_med</th>\n",
       "      <th>policy_code</th>\n",
       "      <th>acc_now_delinq</th>\n",
       "      <th>chargeoff_within_12_mths</th>\n",
       "      <th>delinq_amnt</th>\n",
       "      <th>pub_rec_bankruptcies</th>\n",
       "      <th>tax_liens</th>\n",
       "    </tr>\n",
       "  </thead>\n",
       "  <tbody>\n",
       "    <tr>\n",
       "      <th>count</th>\n",
       "      <td>3.971700e+04</td>\n",
       "      <td>3.971700e+04</td>\n",
       "      <td>39717.000000</td>\n",
       "      <td>39717.000000</td>\n",
       "      <td>39717.000000</td>\n",
       "      <td>39717.000000</td>\n",
       "      <td>3.971700e+04</td>\n",
       "      <td>39717.000000</td>\n",
       "      <td>39717.000000</td>\n",
       "      <td>39717.000000</td>\n",
       "      <td>...</td>\n",
       "      <td>39717.000000</td>\n",
       "      <td>39717.000000</td>\n",
       "      <td>39717.000000</td>\n",
       "      <td>39661.0</td>\n",
       "      <td>39717.0</td>\n",
       "      <td>39717.0</td>\n",
       "      <td>39661.0</td>\n",
       "      <td>39717.0</td>\n",
       "      <td>39020.000000</td>\n",
       "      <td>39678.0</td>\n",
       "    </tr>\n",
       "    <tr>\n",
       "      <th>mean</th>\n",
       "      <td>6.831319e+05</td>\n",
       "      <td>8.504636e+05</td>\n",
       "      <td>11219.443815</td>\n",
       "      <td>10947.713196</td>\n",
       "      <td>10397.448868</td>\n",
       "      <td>324.561922</td>\n",
       "      <td>6.896893e+04</td>\n",
       "      <td>13.315130</td>\n",
       "      <td>0.146512</td>\n",
       "      <td>0.869200</td>\n",
       "      <td>...</td>\n",
       "      <td>95.221624</td>\n",
       "      <td>12.406112</td>\n",
       "      <td>2678.826162</td>\n",
       "      <td>0.0</td>\n",
       "      <td>1.0</td>\n",
       "      <td>0.0</td>\n",
       "      <td>0.0</td>\n",
       "      <td>0.0</td>\n",
       "      <td>0.043260</td>\n",
       "      <td>0.0</td>\n",
       "    </tr>\n",
       "    <tr>\n",
       "      <th>std</th>\n",
       "      <td>2.106941e+05</td>\n",
       "      <td>2.656783e+05</td>\n",
       "      <td>7456.670694</td>\n",
       "      <td>7187.238670</td>\n",
       "      <td>7128.450439</td>\n",
       "      <td>208.874874</td>\n",
       "      <td>6.379377e+04</td>\n",
       "      <td>6.678594</td>\n",
       "      <td>0.491812</td>\n",
       "      <td>1.070219</td>\n",
       "      <td>...</td>\n",
       "      <td>688.744771</td>\n",
       "      <td>148.671593</td>\n",
       "      <td>4447.136012</td>\n",
       "      <td>0.0</td>\n",
       "      <td>0.0</td>\n",
       "      <td>0.0</td>\n",
       "      <td>0.0</td>\n",
       "      <td>0.0</td>\n",
       "      <td>0.204324</td>\n",
       "      <td>0.0</td>\n",
       "    </tr>\n",
       "    <tr>\n",
       "      <th>min</th>\n",
       "      <td>5.473400e+04</td>\n",
       "      <td>7.069900e+04</td>\n",
       "      <td>500.000000</td>\n",
       "      <td>500.000000</td>\n",
       "      <td>0.000000</td>\n",
       "      <td>15.690000</td>\n",
       "      <td>4.000000e+03</td>\n",
       "      <td>0.000000</td>\n",
       "      <td>0.000000</td>\n",
       "      <td>0.000000</td>\n",
       "      <td>...</td>\n",
       "      <td>0.000000</td>\n",
       "      <td>0.000000</td>\n",
       "      <td>0.000000</td>\n",
       "      <td>0.0</td>\n",
       "      <td>1.0</td>\n",
       "      <td>0.0</td>\n",
       "      <td>0.0</td>\n",
       "      <td>0.0</td>\n",
       "      <td>0.000000</td>\n",
       "      <td>0.0</td>\n",
       "    </tr>\n",
       "    <tr>\n",
       "      <th>25%</th>\n",
       "      <td>5.162210e+05</td>\n",
       "      <td>6.667800e+05</td>\n",
       "      <td>5500.000000</td>\n",
       "      <td>5400.000000</td>\n",
       "      <td>5000.000000</td>\n",
       "      <td>167.020000</td>\n",
       "      <td>4.040400e+04</td>\n",
       "      <td>8.170000</td>\n",
       "      <td>0.000000</td>\n",
       "      <td>0.000000</td>\n",
       "      <td>...</td>\n",
       "      <td>0.000000</td>\n",
       "      <td>0.000000</td>\n",
       "      <td>218.680000</td>\n",
       "      <td>0.0</td>\n",
       "      <td>1.0</td>\n",
       "      <td>0.0</td>\n",
       "      <td>0.0</td>\n",
       "      <td>0.0</td>\n",
       "      <td>0.000000</td>\n",
       "      <td>0.0</td>\n",
       "    </tr>\n",
       "    <tr>\n",
       "      <th>50%</th>\n",
       "      <td>6.656650e+05</td>\n",
       "      <td>8.508120e+05</td>\n",
       "      <td>10000.000000</td>\n",
       "      <td>9600.000000</td>\n",
       "      <td>8975.000000</td>\n",
       "      <td>280.220000</td>\n",
       "      <td>5.900000e+04</td>\n",
       "      <td>13.400000</td>\n",
       "      <td>0.000000</td>\n",
       "      <td>1.000000</td>\n",
       "      <td>...</td>\n",
       "      <td>0.000000</td>\n",
       "      <td>0.000000</td>\n",
       "      <td>546.140000</td>\n",
       "      <td>0.0</td>\n",
       "      <td>1.0</td>\n",
       "      <td>0.0</td>\n",
       "      <td>0.0</td>\n",
       "      <td>0.0</td>\n",
       "      <td>0.000000</td>\n",
       "      <td>0.0</td>\n",
       "    </tr>\n",
       "    <tr>\n",
       "      <th>75%</th>\n",
       "      <td>8.377550e+05</td>\n",
       "      <td>1.047339e+06</td>\n",
       "      <td>15000.000000</td>\n",
       "      <td>15000.000000</td>\n",
       "      <td>14400.000000</td>\n",
       "      <td>430.780000</td>\n",
       "      <td>8.230000e+04</td>\n",
       "      <td>18.600000</td>\n",
       "      <td>0.000000</td>\n",
       "      <td>1.000000</td>\n",
       "      <td>...</td>\n",
       "      <td>0.000000</td>\n",
       "      <td>0.000000</td>\n",
       "      <td>3293.160000</td>\n",
       "      <td>0.0</td>\n",
       "      <td>1.0</td>\n",
       "      <td>0.0</td>\n",
       "      <td>0.0</td>\n",
       "      <td>0.0</td>\n",
       "      <td>0.000000</td>\n",
       "      <td>0.0</td>\n",
       "    </tr>\n",
       "    <tr>\n",
       "      <th>max</th>\n",
       "      <td>1.077501e+06</td>\n",
       "      <td>1.314167e+06</td>\n",
       "      <td>35000.000000</td>\n",
       "      <td>35000.000000</td>\n",
       "      <td>35000.000000</td>\n",
       "      <td>1305.190000</td>\n",
       "      <td>6.000000e+06</td>\n",
       "      <td>29.990000</td>\n",
       "      <td>11.000000</td>\n",
       "      <td>8.000000</td>\n",
       "      <td>...</td>\n",
       "      <td>29623.350000</td>\n",
       "      <td>7002.190000</td>\n",
       "      <td>36115.200000</td>\n",
       "      <td>0.0</td>\n",
       "      <td>1.0</td>\n",
       "      <td>0.0</td>\n",
       "      <td>0.0</td>\n",
       "      <td>0.0</td>\n",
       "      <td>2.000000</td>\n",
       "      <td>0.0</td>\n",
       "    </tr>\n",
       "  </tbody>\n",
       "</table>\n",
       "<p>8 rows × 31 columns</p>\n",
       "</div>"
      ],
      "text/plain": [
       "                 id     member_id     loan_amnt   funded_amnt  \\\n",
       "count  3.971700e+04  3.971700e+04  39717.000000  39717.000000   \n",
       "mean   6.831319e+05  8.504636e+05  11219.443815  10947.713196   \n",
       "std    2.106941e+05  2.656783e+05   7456.670694   7187.238670   \n",
       "min    5.473400e+04  7.069900e+04    500.000000    500.000000   \n",
       "25%    5.162210e+05  6.667800e+05   5500.000000   5400.000000   \n",
       "50%    6.656650e+05  8.508120e+05  10000.000000   9600.000000   \n",
       "75%    8.377550e+05  1.047339e+06  15000.000000  15000.000000   \n",
       "max    1.077501e+06  1.314167e+06  35000.000000  35000.000000   \n",
       "\n",
       "       funded_amnt_inv   installment    annual_inc           dti  \\\n",
       "count     39717.000000  39717.000000  3.971700e+04  39717.000000   \n",
       "mean      10397.448868    324.561922  6.896893e+04     13.315130   \n",
       "std        7128.450439    208.874874  6.379377e+04      6.678594   \n",
       "min           0.000000     15.690000  4.000000e+03      0.000000   \n",
       "25%        5000.000000    167.020000  4.040400e+04      8.170000   \n",
       "50%        8975.000000    280.220000  5.900000e+04     13.400000   \n",
       "75%       14400.000000    430.780000  8.230000e+04     18.600000   \n",
       "max       35000.000000   1305.190000  6.000000e+06     29.990000   \n",
       "\n",
       "        delinq_2yrs  inq_last_6mths  ...    recoveries  \\\n",
       "count  39717.000000    39717.000000  ...  39717.000000   \n",
       "mean       0.146512        0.869200  ...     95.221624   \n",
       "std        0.491812        1.070219  ...    688.744771   \n",
       "min        0.000000        0.000000  ...      0.000000   \n",
       "25%        0.000000        0.000000  ...      0.000000   \n",
       "50%        0.000000        1.000000  ...      0.000000   \n",
       "75%        0.000000        1.000000  ...      0.000000   \n",
       "max       11.000000        8.000000  ...  29623.350000   \n",
       "\n",
       "       collection_recovery_fee  last_pymnt_amnt  collections_12_mths_ex_med  \\\n",
       "count             39717.000000     39717.000000                     39661.0   \n",
       "mean                 12.406112      2678.826162                         0.0   \n",
       "std                 148.671593      4447.136012                         0.0   \n",
       "min                   0.000000         0.000000                         0.0   \n",
       "25%                   0.000000       218.680000                         0.0   \n",
       "50%                   0.000000       546.140000                         0.0   \n",
       "75%                   0.000000      3293.160000                         0.0   \n",
       "max                7002.190000     36115.200000                         0.0   \n",
       "\n",
       "       policy_code  acc_now_delinq  chargeoff_within_12_mths  delinq_amnt  \\\n",
       "count      39717.0         39717.0                   39661.0      39717.0   \n",
       "mean           1.0             0.0                       0.0          0.0   \n",
       "std            0.0             0.0                       0.0          0.0   \n",
       "min            1.0             0.0                       0.0          0.0   \n",
       "25%            1.0             0.0                       0.0          0.0   \n",
       "50%            1.0             0.0                       0.0          0.0   \n",
       "75%            1.0             0.0                       0.0          0.0   \n",
       "max            1.0             0.0                       0.0          0.0   \n",
       "\n",
       "       pub_rec_bankruptcies  tax_liens  \n",
       "count          39020.000000    39678.0  \n",
       "mean               0.043260        0.0  \n",
       "std                0.204324        0.0  \n",
       "min                0.000000        0.0  \n",
       "25%                0.000000        0.0  \n",
       "50%                0.000000        0.0  \n",
       "75%                0.000000        0.0  \n",
       "max                2.000000        0.0  \n",
       "\n",
       "[8 rows x 31 columns]"
      ]
     },
     "execution_count": 19,
     "metadata": {},
     "output_type": "execute_result"
    }
   ],
   "source": [
    "null_removed_df.describe()"
   ]
  },
  {
   "cell_type": "code",
   "execution_count": 20,
   "metadata": {},
   "outputs": [
    {
     "name": "stdout",
     "output_type": "stream",
     "text": [
      "<class 'pandas.core.frame.DataFrame'>\n",
      "RangeIndex: 39717 entries, 0 to 39716\n",
      "Data columns (total 53 columns):\n",
      " #   Column                      Non-Null Count  Dtype  \n",
      "---  ------                      --------------  -----  \n",
      " 0   id                          39717 non-null  int64  \n",
      " 1   member_id                   39717 non-null  int64  \n",
      " 2   loan_amnt                   39717 non-null  int64  \n",
      " 3   funded_amnt                 39717 non-null  int64  \n",
      " 4   funded_amnt_inv             39717 non-null  float64\n",
      " 5   term                        39717 non-null  object \n",
      " 6   int_rate                    39717 non-null  object \n",
      " 7   installment                 39717 non-null  float64\n",
      " 8   grade                       39717 non-null  object \n",
      " 9   sub_grade                   39717 non-null  object \n",
      " 10  emp_title                   37258 non-null  object \n",
      " 11  emp_length                  38642 non-null  object \n",
      " 12  home_ownership              39717 non-null  object \n",
      " 13  annual_inc                  39717 non-null  float64\n",
      " 14  verification_status         39717 non-null  object \n",
      " 15  issue_d                     39717 non-null  object \n",
      " 16  loan_status                 39717 non-null  object \n",
      " 17  pymnt_plan                  39717 non-null  object \n",
      " 18  url                         39717 non-null  object \n",
      " 19  purpose                     39717 non-null  object \n",
      " 20  title                       39706 non-null  object \n",
      " 21  zip_code                    39717 non-null  object \n",
      " 22  addr_state                  39717 non-null  object \n",
      " 23  dti                         39717 non-null  float64\n",
      " 24  delinq_2yrs                 39717 non-null  int64  \n",
      " 25  earliest_cr_line            39717 non-null  object \n",
      " 26  inq_last_6mths              39717 non-null  int64  \n",
      " 27  open_acc                    39717 non-null  int64  \n",
      " 28  pub_rec                     39717 non-null  int64  \n",
      " 29  revol_bal                   39717 non-null  int64  \n",
      " 30  revol_util                  39667 non-null  object \n",
      " 31  total_acc                   39717 non-null  int64  \n",
      " 32  initial_list_status         39717 non-null  object \n",
      " 33  out_prncp                   39717 non-null  float64\n",
      " 34  out_prncp_inv               39717 non-null  float64\n",
      " 35  total_pymnt                 39717 non-null  float64\n",
      " 36  total_pymnt_inv             39717 non-null  float64\n",
      " 37  total_rec_prncp             39717 non-null  float64\n",
      " 38  total_rec_int               39717 non-null  float64\n",
      " 39  total_rec_late_fee          39717 non-null  float64\n",
      " 40  recoveries                  39717 non-null  float64\n",
      " 41  collection_recovery_fee     39717 non-null  float64\n",
      " 42  last_pymnt_d                39646 non-null  object \n",
      " 43  last_pymnt_amnt             39717 non-null  float64\n",
      " 44  last_credit_pull_d          39715 non-null  object \n",
      " 45  collections_12_mths_ex_med  39661 non-null  float64\n",
      " 46  policy_code                 39717 non-null  int64  \n",
      " 47  application_type            39717 non-null  object \n",
      " 48  acc_now_delinq              39717 non-null  int64  \n",
      " 49  chargeoff_within_12_mths    39661 non-null  float64\n",
      " 50  delinq_amnt                 39717 non-null  int64  \n",
      " 51  pub_rec_bankruptcies        39020 non-null  float64\n",
      " 52  tax_liens                   39678 non-null  float64\n",
      "dtypes: float64(18), int64(13), object(22)\n",
      "memory usage: 16.1+ MB\n"
     ]
    }
   ],
   "source": [
    "null_removed_df.info()"
   ]
  },
  {
   "cell_type": "code",
   "execution_count": 21,
   "metadata": {},
   "outputs": [
    {
     "data": {
      "text/plain": [
       "emp_title                     6.19\n",
       "emp_length                    2.71\n",
       "title                         0.03\n",
       "revol_util                    0.13\n",
       "last_pymnt_d                  0.18\n",
       "last_credit_pull_d            0.01\n",
       "collections_12_mths_ex_med    0.14\n",
       "chargeoff_within_12_mths      0.14\n",
       "pub_rec_bankruptcies          1.75\n",
       "tax_liens                     0.10\n",
       "dtype: float64"
      ]
     },
     "execution_count": 21,
     "metadata": {},
     "output_type": "execute_result"
    }
   ],
   "source": [
    "#Remaining missing values in the dataframe.Need to remove the columns\n",
    "missing = round(100*(null_removed_df.isnull().sum()/len(null_removed_df.index)),2)\n",
    "missing[missing!=0]"
   ]
  },
  {
   "cell_type": "code",
   "execution_count": 22,
   "metadata": {},
   "outputs": [
    {
     "name": "stdout",
     "output_type": "stream",
     "text": [
      "unique values for emp_title : 28821\n",
      " unique values for emp_length : 12\n",
      " unique values for title : 19616\n",
      "unique values for revol_util : 1090\n",
      " unique values for last_pymnt_d : 102\n",
      "unique values for last_credit_pull_d : 107\n",
      " unique values for collections_12_mths_ex_med : 2\n",
      " unique values for chargeoff_within_12_mths : 2\n",
      " unique values for pub_rec_bankruptcies : 4\n",
      " unique values for tax_liens : 2\n"
     ]
    }
   ],
   "source": [
    "#finding the unique value will give some insights for dataframe\n",
    "#Finding no. of unique values for the remaining columns:\n",
    "\n",
    "print(\"unique values for emp_title :\",len(null_removed_df.emp_title.unique()))\n",
    "print(\" unique values for emp_length :\",len(null_removed_df.emp_length.unique()))\n",
    "print(\" unique values for title :\",len(null_removed_df.title.unique()))\n",
    "print(\"unique values for revol_util :\",len(null_removed_df.revol_util.unique()))\n",
    "print(\" unique values for last_pymnt_d :\",len(null_removed_df.last_pymnt_d.unique()))\n",
    "print(\"unique values for last_credit_pull_d :\",len(null_removed_df.last_credit_pull_d.unique()))\n",
    "print(\" unique values for collections_12_mths_ex_med :\",len(null_removed_df.collections_12_mths_ex_med.unique()))\n",
    "print(\" unique values for chargeoff_within_12_mths :\",len(null_removed_df.chargeoff_within_12_mths.unique()))\n",
    "print(\" unique values for pub_rec_bankruptcies :\",len(null_removed_df.pub_rec_bankruptcies.unique()))\n",
    "print(\" unique values for tax_liens :\",len(null_removed_df.tax_liens.unique()))"
   ]
  },
  {
   "cell_type": "markdown",
   "metadata": {},
   "source": [
    "__\"collections_12_mths_ex_med\"__ ,__chargeoff_within_12_mths__,__tax_liens__ and __pub_rec_bankruptcies__ unique represent that they are categorical value"
   ]
  },
  {
   "cell_type": "code",
   "execution_count": 23,
   "metadata": {},
   "outputs": [
    {
     "name": "stdout",
     "output_type": "stream",
     "text": [
      "collections_12_mths_ex_med: [ 0. nan]\n",
      "chargeoff_within_12_mths: [ 0. nan]\n",
      "tax_liens: [ 0. nan]\n",
      "pub_rec_bankruptcies: [ 0.  1.  2. nan]\n"
     ]
    }
   ],
   "source": [
    "print('collections_12_mths_ex_med:',null_removed_df.collections_12_mths_ex_med.unique())\n",
    "print('chargeoff_within_12_mths:',null_removed_df.chargeoff_within_12_mths.unique())\n",
    "print('tax_liens:',null_removed_df.tax_liens.unique())\n",
    "print('pub_rec_bankruptcies:',null_removed_df.pub_rec_bankruptcies.unique())"
   ]
  },
  {
   "cell_type": "markdown",
   "metadata": {},
   "source": [
    "Clearly from above values we can say that 3 columns having the NaN as categorical variable. Which doesn't have any much use for the analysis so we can drop the columns"
   ]
  },
  {
   "cell_type": "code",
   "execution_count": 24,
   "metadata": {},
   "outputs": [],
   "source": [
    "col = ['collections_12_mths_ex_med','chargeoff_within_12_mths','tax_liens']\n",
    "null_removed_df = null_removed_df.drop(col,axis=1)"
   ]
  },
  {
   "cell_type": "code",
   "execution_count": 25,
   "metadata": {},
   "outputs": [
    {
     "data": {
      "text/plain": [
       "0.0    37339\n",
       "1.0     1674\n",
       "2.0        7\n",
       "Name: pub_rec_bankruptcies, dtype: int64"
      ]
     },
     "execution_count": 25,
     "metadata": {},
     "output_type": "execute_result"
    }
   ],
   "source": [
    "null_removed_df['pub_rec_bankruptcies'].value_counts()"
   ]
  },
  {
   "cell_type": "code",
   "execution_count": 26,
   "metadata": {},
   "outputs": [],
   "source": [
    "#remove the null values in pub_rec_bankruptcies column\n",
    "null_removed_df=null_removed_df[~null_removed_df.pub_rec_bankruptcies.isnull()]"
   ]
  },
  {
   "cell_type": "code",
   "execution_count": 27,
   "metadata": {},
   "outputs": [
    {
     "data": {
      "text/plain": [
       "emp_title       6.19\n",
       "emp_length      2.75\n",
       "title           0.03\n",
       "revol_util      0.13\n",
       "last_pymnt_d    0.18\n",
       "dtype: float64"
      ]
     },
     "execution_count": 27,
     "metadata": {},
     "output_type": "execute_result"
    }
   ],
   "source": [
    "#Remaining missing values in the dataframe.Need to remove the columns\n",
    "missing = round(100*(null_removed_df.isnull().sum()/len(null_removed_df.index)),2)\n",
    "missing[missing!=0]"
   ]
  },
  {
   "cell_type": "code",
   "execution_count": 28,
   "metadata": {},
   "outputs": [],
   "source": [
    "#Removing the all null values from the dataframe \n",
    "null_removed_df=null_removed_df[~null_removed_df.emp_title.isnull()]\n",
    "null_removed_df=null_removed_df[~null_removed_df.emp_length.isnull()]\n",
    "null_removed_df=null_removed_df[~null_removed_df.title.isnull()]\n",
    "null_removed_df=null_removed_df[~null_removed_df.revol_util.isnull()]\n",
    "null_removed_df=null_removed_df[~null_removed_df.last_pymnt_d.isnull()]"
   ]
  },
  {
   "cell_type": "code",
   "execution_count": 29,
   "metadata": {},
   "outputs": [
    {
     "data": {
      "text/plain": [
       "Series([], dtype: float64)"
      ]
     },
     "execution_count": 29,
     "metadata": {},
     "output_type": "execute_result"
    }
   ],
   "source": [
    "missing = round(100*(null_removed_df.isnull().sum()/len(null_removed_df.index)),2)\n",
    "missing[missing!=0]"
   ]
  },
  {
   "cell_type": "code",
   "execution_count": 30,
   "metadata": {},
   "outputs": [
    {
     "data": {
      "text/plain": [
       "(36433, 50)"
      ]
     },
     "execution_count": 30,
     "metadata": {},
     "output_type": "execute_result"
    }
   ],
   "source": [
    "null_removed_df.shape"
   ]
  },
  {
   "cell_type": "markdown",
   "metadata": {},
   "source": [
    "After removing the cleaning and removing the dataframe we got __36433 rows and 50 columns__ . "
   ]
  },
  {
   "cell_type": "markdown",
   "metadata": {},
   "source": [
    "This Above Null_removed_df is having zero nulls inthe data set so copy that into a csv and keep it for further analysis."
   ]
  },
  {
   "cell_type": "code",
   "execution_count": 29,
   "metadata": {},
   "outputs": [
    {
     "ename": "PermissionError",
     "evalue": "[Errno 13] Permission denied: 'clean_data.csv'",
     "output_type": "error",
     "traceback": [
      "\u001b[1;31m---------------------------------------------------------------------------\u001b[0m",
      "\u001b[1;31mPermissionError\u001b[0m                           Traceback (most recent call last)",
      "\u001b[1;32m<ipython-input-29-0f2e83f5fabd>\u001b[0m in \u001b[0;36m<module>\u001b[1;34m\u001b[0m\n\u001b[1;32m----> 1\u001b[1;33m \u001b[0mnull_removed_df\u001b[0m\u001b[1;33m.\u001b[0m\u001b[0mto_csv\u001b[0m\u001b[1;33m(\u001b[0m\u001b[1;34m'clean_data.csv'\u001b[0m\u001b[1;33m,\u001b[0m \u001b[0mindex\u001b[0m\u001b[1;33m=\u001b[0m\u001b[1;32mFalse\u001b[0m\u001b[1;33m)\u001b[0m\u001b[1;33m\u001b[0m\u001b[1;33m\u001b[0m\u001b[0m\n\u001b[0m",
      "\u001b[1;32m~\\anaconda3\\lib\\site-packages\\pandas\\core\\generic.py\u001b[0m in \u001b[0;36mto_csv\u001b[1;34m(self, path_or_buf, sep, na_rep, float_format, columns, header, index, index_label, mode, encoding, compression, quoting, quotechar, line_terminator, chunksize, date_format, doublequote, escapechar, decimal)\u001b[0m\n\u001b[0;32m   3202\u001b[0m             \u001b[0mdecimal\u001b[0m\u001b[1;33m=\u001b[0m\u001b[0mdecimal\u001b[0m\u001b[1;33m,\u001b[0m\u001b[1;33m\u001b[0m\u001b[1;33m\u001b[0m\u001b[0m\n\u001b[0;32m   3203\u001b[0m         )\n\u001b[1;32m-> 3204\u001b[1;33m         \u001b[0mformatter\u001b[0m\u001b[1;33m.\u001b[0m\u001b[0msave\u001b[0m\u001b[1;33m(\u001b[0m\u001b[1;33m)\u001b[0m\u001b[1;33m\u001b[0m\u001b[1;33m\u001b[0m\u001b[0m\n\u001b[0m\u001b[0;32m   3205\u001b[0m \u001b[1;33m\u001b[0m\u001b[0m\n\u001b[0;32m   3206\u001b[0m         \u001b[1;32mif\u001b[0m \u001b[0mpath_or_buf\u001b[0m \u001b[1;32mis\u001b[0m \u001b[1;32mNone\u001b[0m\u001b[1;33m:\u001b[0m\u001b[1;33m\u001b[0m\u001b[1;33m\u001b[0m\u001b[0m\n",
      "\u001b[1;32m~\\anaconda3\\lib\\site-packages\\pandas\\io\\formats\\csvs.py\u001b[0m in \u001b[0;36msave\u001b[1;34m(self)\u001b[0m\n\u001b[0;32m    182\u001b[0m             \u001b[0mclose\u001b[0m \u001b[1;33m=\u001b[0m \u001b[1;32mFalse\u001b[0m\u001b[1;33m\u001b[0m\u001b[1;33m\u001b[0m\u001b[0m\n\u001b[0;32m    183\u001b[0m         \u001b[1;32melse\u001b[0m\u001b[1;33m:\u001b[0m\u001b[1;33m\u001b[0m\u001b[1;33m\u001b[0m\u001b[0m\n\u001b[1;32m--> 184\u001b[1;33m             f, handles = get_handle(\n\u001b[0m\u001b[0;32m    185\u001b[0m                 \u001b[0mself\u001b[0m\u001b[1;33m.\u001b[0m\u001b[0mpath_or_buf\u001b[0m\u001b[1;33m,\u001b[0m\u001b[1;33m\u001b[0m\u001b[1;33m\u001b[0m\u001b[0m\n\u001b[0;32m    186\u001b[0m                 \u001b[0mself\u001b[0m\u001b[1;33m.\u001b[0m\u001b[0mmode\u001b[0m\u001b[1;33m,\u001b[0m\u001b[1;33m\u001b[0m\u001b[1;33m\u001b[0m\u001b[0m\n",
      "\u001b[1;32m~\\anaconda3\\lib\\site-packages\\pandas\\io\\common.py\u001b[0m in \u001b[0;36mget_handle\u001b[1;34m(path_or_buf, mode, encoding, compression, memory_map, is_text)\u001b[0m\n\u001b[0;32m    426\u001b[0m         \u001b[1;32mif\u001b[0m \u001b[0mencoding\u001b[0m\u001b[1;33m:\u001b[0m\u001b[1;33m\u001b[0m\u001b[1;33m\u001b[0m\u001b[0m\n\u001b[0;32m    427\u001b[0m             \u001b[1;31m# Encoding\u001b[0m\u001b[1;33m\u001b[0m\u001b[1;33m\u001b[0m\u001b[1;33m\u001b[0m\u001b[0m\n\u001b[1;32m--> 428\u001b[1;33m             \u001b[0mf\u001b[0m \u001b[1;33m=\u001b[0m \u001b[0mopen\u001b[0m\u001b[1;33m(\u001b[0m\u001b[0mpath_or_buf\u001b[0m\u001b[1;33m,\u001b[0m \u001b[0mmode\u001b[0m\u001b[1;33m,\u001b[0m \u001b[0mencoding\u001b[0m\u001b[1;33m=\u001b[0m\u001b[0mencoding\u001b[0m\u001b[1;33m,\u001b[0m \u001b[0mnewline\u001b[0m\u001b[1;33m=\u001b[0m\u001b[1;34m\"\"\u001b[0m\u001b[1;33m)\u001b[0m\u001b[1;33m\u001b[0m\u001b[1;33m\u001b[0m\u001b[0m\n\u001b[0m\u001b[0;32m    429\u001b[0m         \u001b[1;32melif\u001b[0m \u001b[0mis_text\u001b[0m\u001b[1;33m:\u001b[0m\u001b[1;33m\u001b[0m\u001b[1;33m\u001b[0m\u001b[0m\n\u001b[0;32m    430\u001b[0m             \u001b[1;31m# No explicit encoding\u001b[0m\u001b[1;33m\u001b[0m\u001b[1;33m\u001b[0m\u001b[1;33m\u001b[0m\u001b[0m\n",
      "\u001b[1;31mPermissionError\u001b[0m: [Errno 13] Permission denied: 'clean_data.csv'"
     ]
    }
   ],
   "source": [
    "# Save df in clean_data.csv after Null Removeal\n",
    "null_removed_df.to_csv('clean_data.csv', index=False)"
   ]
  },
  {
   "cell_type": "code",
   "execution_count": 31,
   "metadata": {},
   "outputs": [
    {
     "name": "stdout",
     "output_type": "stream",
     "text": [
      "(36433, 50)\n"
     ]
    }
   ],
   "source": [
    "#Load the data for futher analasis to refine the datafreme by converting the objects to datatypes\n",
    "clean_df = pd.read_csv('clean_data.csv')\n",
    "print(clean_df.shape)"
   ]
  },
  {
   "cell_type": "code",
   "execution_count": 32,
   "metadata": {},
   "outputs": [
    {
     "name": "stdout",
     "output_type": "stream",
     "text": [
      "['id', 'member_id', 'loan_amnt', 'funded_amnt', 'funded_amnt_inv', 'term', 'int_rate', 'installment', 'grade', 'sub_grade', 'emp_title', 'emp_length', 'home_ownership', 'annual_inc', 'verification_status', 'issue_d', 'loan_status', 'pymnt_plan', 'url', 'purpose', 'title', 'zip_code', 'addr_state', 'dti', 'delinq_2yrs', 'earliest_cr_line', 'inq_last_6mths', 'open_acc', 'pub_rec', 'revol_bal', 'revol_util', 'total_acc', 'initial_list_status', 'out_prncp', 'out_prncp_inv', 'total_pymnt', 'total_pymnt_inv', 'total_rec_prncp', 'total_rec_int', 'total_rec_late_fee', 'recoveries', 'collection_recovery_fee', 'last_pymnt_d', 'last_pymnt_amnt', 'last_credit_pull_d', 'policy_code', 'application_type', 'acc_now_delinq', 'delinq_amnt', 'pub_rec_bankruptcies']\n"
     ]
    }
   ],
   "source": [
    "print(list(clean_df.columns))"
   ]
  },
  {
   "cell_type": "code",
   "execution_count": 33,
   "metadata": {},
   "outputs": [
    {
     "data": {
      "text/plain": [
       "0        15.27\n",
       "1        13.49\n",
       "2        12.69\n",
       "3         7.90\n",
       "4        15.96\n",
       "         ...  \n",
       "36428    10.91\n",
       "36429    10.28\n",
       "36430    12.49\n",
       "36431    11.22\n",
       "36432    11.86\n",
       "Name: int_rate, Length: 36433, dtype: object"
      ]
     },
     "execution_count": 33,
     "metadata": {},
     "output_type": "execute_result"
    }
   ],
   "source": [
    "#remove the  % in the column values\n",
    "clean_df['int_rate']= clean_df['int_rate'].apply(lambda x:x.split('%')[0])\n",
    "clean_df['int_rate']\n"
   ]
  },
  {
   "cell_type": "code",
   "execution_count": 34,
   "metadata": {},
   "outputs": [
    {
     "data": {
      "text/plain": [
       "0         60 \n",
       "1         36 \n",
       "2         60 \n",
       "3         36 \n",
       "4         60 \n",
       "         ... \n",
       "36428     36 \n",
       "36429     36 \n",
       "36430     36 \n",
       "36431     36 \n",
       "36432     36 \n",
       "Name: term, Length: 36433, dtype: object"
      ]
     },
     "execution_count": 34,
     "metadata": {},
     "output_type": "execute_result"
    }
   ],
   "source": [
    "# Remove months from the term \n",
    "clean_df['term']= clean_df['term'].apply(lambda x:x.replace('months',''))\n",
    "clean_df['term']"
   ]
  },
  {
   "cell_type": "markdown",
   "metadata": {},
   "source": [
    "Few columns in the clean_df doesn't contribute any thing for Risk analysis.so we can remove those.\n",
    "1. id , member id are random number it doesn't contribute to Risk analysis\n",
    "2. funded_amut  is similar to loan_amount these are dublicates\n",
    "3. pymnt_plan : It's value for all the rows is 'n', can be dropped\n",
    "4. url : It's a URL for LC page for corresponding to each id,not needed for loan default - can be dropped.\n",
    "5. zip_code : which is having xx in last two which is not required for analyis\n",
    "6. initial_list_status: all the values are 'f' string can be dropped\n",
    "7. application_type : which has same value 'individual' can be dropped\n",
    "8. acc_now_delinq : It's value for all the rows is '0' - can be dropped\n",
    "9. delinq_amnt : It's value for all the rows is '0' - dan be dropped\n",
    "10. funded_amnt_inv : It's is nearly same with funded_amnt. Also this wont be available at the time of decision making of funding a loan - can be dropped\n",
    "11. 'policy_code' : which has value 1 can be dropped"
   ]
  },
  {
   "cell_type": "code",
   "execution_count": 35,
   "metadata": {},
   "outputs": [
    {
     "data": {
      "text/plain": [
       "(36433, 38)"
      ]
     },
     "execution_count": 35,
     "metadata": {},
     "output_type": "execute_result"
    }
   ],
   "source": [
    "#Removing the unwanted columns which doesn't contribute to analysis\n",
    "cols_to_drop = ['id','member_id','funded_amnt','funded_amnt_inv','url','zip_code','initial_list_status',\n",
    "                'policy_code','application_type','acc_now_delinq','delinq_amnt','pymnt_plan']\n",
    "clean_df = clean_df.drop(cols_to_drop,axis=1)\n",
    "clean_df.shape"
   ]
  },
  {
   "cell_type": "code",
   "execution_count": 36,
   "metadata": {},
   "outputs": [
    {
     "name": "stdout",
     "output_type": "stream",
     "text": [
      "['loan_amnt', 'term', 'int_rate', 'installment', 'grade', 'sub_grade', 'emp_title', 'emp_length', 'home_ownership', 'annual_inc', 'verification_status', 'issue_d', 'loan_status', 'purpose', 'title', 'addr_state', 'dti', 'delinq_2yrs', 'earliest_cr_line', 'inq_last_6mths', 'open_acc', 'pub_rec', 'revol_bal', 'revol_util', 'total_acc', 'out_prncp', 'out_prncp_inv', 'total_pymnt', 'total_pymnt_inv', 'total_rec_prncp', 'total_rec_int', 'total_rec_late_fee', 'recoveries', 'collection_recovery_fee', 'last_pymnt_d', 'last_pymnt_amnt', 'last_credit_pull_d', 'pub_rec_bankruptcies']\n"
     ]
    }
   ],
   "source": [
    "print(list(clean_df.columns))"
   ]
  },
  {
   "cell_type": "code",
   "execution_count": 37,
   "metadata": {},
   "outputs": [
    {
     "name": "stdout",
     "output_type": "stream",
     "text": [
      "<class 'pandas.core.frame.DataFrame'>\n",
      "RangeIndex: 36433 entries, 0 to 36432\n",
      "Data columns (total 38 columns):\n",
      " #   Column                   Non-Null Count  Dtype  \n",
      "---  ------                   --------------  -----  \n",
      " 0   loan_amnt                36433 non-null  int64  \n",
      " 1   term                     36433 non-null  object \n",
      " 2   int_rate                 36433 non-null  object \n",
      " 3   installment              36433 non-null  float64\n",
      " 4   grade                    36433 non-null  object \n",
      " 5   sub_grade                36433 non-null  object \n",
      " 6   emp_title                36433 non-null  object \n",
      " 7   emp_length               36433 non-null  object \n",
      " 8   home_ownership           36433 non-null  object \n",
      " 9   annual_inc               36433 non-null  float64\n",
      " 10  verification_status      36433 non-null  object \n",
      " 11  issue_d                  36433 non-null  object \n",
      " 12  loan_status              36433 non-null  object \n",
      " 13  purpose                  36433 non-null  object \n",
      " 14  title                    36433 non-null  object \n",
      " 15  addr_state               36433 non-null  object \n",
      " 16  dti                      36433 non-null  float64\n",
      " 17  delinq_2yrs              36433 non-null  int64  \n",
      " 18  earliest_cr_line         36433 non-null  object \n",
      " 19  inq_last_6mths           36433 non-null  int64  \n",
      " 20  open_acc                 36433 non-null  int64  \n",
      " 21  pub_rec                  36433 non-null  int64  \n",
      " 22  revol_bal                36433 non-null  int64  \n",
      " 23  revol_util               36433 non-null  object \n",
      " 24  total_acc                36433 non-null  int64  \n",
      " 25  out_prncp                36433 non-null  float64\n",
      " 26  out_prncp_inv            36433 non-null  float64\n",
      " 27  total_pymnt              36433 non-null  float64\n",
      " 28  total_pymnt_inv          36433 non-null  float64\n",
      " 29  total_rec_prncp          36433 non-null  float64\n",
      " 30  total_rec_int            36433 non-null  float64\n",
      " 31  total_rec_late_fee       36433 non-null  float64\n",
      " 32  recoveries               36433 non-null  float64\n",
      " 33  collection_recovery_fee  36433 non-null  float64\n",
      " 34  last_pymnt_d             36433 non-null  object \n",
      " 35  last_pymnt_amnt          36433 non-null  float64\n",
      " 36  last_credit_pull_d       36433 non-null  object \n",
      " 37  pub_rec_bankruptcies     36433 non-null  float64\n",
      "dtypes: float64(14), int64(7), object(17)\n",
      "memory usage: 10.6+ MB\n"
     ]
    }
   ],
   "source": [
    "clean_df.info()"
   ]
  },
  {
   "cell_type": "code",
   "execution_count": 38,
   "metadata": {},
   "outputs": [
    {
     "data": {
      "text/plain": [
       "0         9.40\n",
       "1           21\n",
       "2        53.90\n",
       "3        28.30\n",
       "4        85.60\n",
       "         ...  \n",
       "36428    96.50\n",
       "36429    68.70\n",
       "36430    62.90\n",
       "36431    34.30\n",
       "36432    70.90\n",
       "Name: revol_util, Length: 36433, dtype: object"
      ]
     },
     "execution_count": 38,
     "metadata": {},
     "output_type": "execute_result"
    }
   ],
   "source": [
    "# revol_util has the '%' in column this need to be removed and data type changed to float\n",
    "clean_df['revol_util'] = clean_df['revol_util'].apply(lambda x:x.replace('%',''))\n",
    "clean_df['revol_util']"
   ]
  },
  {
   "cell_type": "markdown",
   "metadata": {},
   "source": [
    "revol_util and int_rate are all object type need to convert to float. by using apply()"
   ]
  },
  {
   "cell_type": "code",
   "execution_count": 39,
   "metadata": {},
   "outputs": [
    {
     "name": "stdout",
     "output_type": "stream",
     "text": [
      "<class 'pandas.core.frame.DataFrame'>\n",
      "RangeIndex: 36433 entries, 0 to 36432\n",
      "Data columns (total 2 columns):\n",
      " #   Column      Non-Null Count  Dtype  \n",
      "---  ------      --------------  -----  \n",
      " 0   revol_util  36433 non-null  float64\n",
      " 1   int_rate    36433 non-null  float64\n",
      "dtypes: float64(2)\n",
      "memory usage: 569.4 KB\n"
     ]
    }
   ],
   "source": [
    "#Converting the columns into float values\n",
    "clean_df['revol_util'] = clean_df['revol_util'].apply(lambda x : float(str(x)))\n",
    "clean_df['int_rate'] = clean_df['int_rate'].apply(lambda x : float(str(x)))\n",
    "clean_df[['revol_util','int_rate']].info()"
   ]
  },
  {
   "cell_type": "markdown",
   "metadata": {},
   "source": [
    "__Few of Columns which having date are represented as Object need to convert back to Datetime format__\n",
    "These columns are:\n",
    "\n",
    ". issue_d\n",
    ". earliest_cr_line\n",
    ". last_pymnt_d\n",
    ". last_credit_pull_d"
   ]
  },
  {
   "cell_type": "code",
   "execution_count": 40,
   "metadata": {},
   "outputs": [],
   "source": [
    "# changing to date time by using pd.to_datetime()\n",
    "clean_df.issue_d = pd.to_datetime(clean_df.issue_d, format='%b-%y')\n",
    "clean_df.earliest_cr_line = pd.to_datetime(clean_df.earliest_cr_line, format='%b-%y')\n",
    "clean_df.last_pymnt_d = pd.to_datetime(clean_df.last_pymnt_d, format='%b-%y')\n",
    "clean_df.last_credit_pull_d = pd.to_datetime(clean_df.last_credit_pull_d, format='%b-%y')"
   ]
  },
  {
   "cell_type": "code",
   "execution_count": 41,
   "metadata": {},
   "outputs": [
    {
     "name": "stdout",
     "output_type": "stream",
     "text": [
      "<class 'pandas.core.frame.DataFrame'>\n",
      "RangeIndex: 36433 entries, 0 to 36432\n",
      "Data columns (total 1 columns):\n",
      " #   Column   Non-Null Count  Dtype         \n",
      "---  ------   --------------  -----         \n",
      " 0   issue_d  36433 non-null  datetime64[ns]\n",
      "dtypes: datetime64[ns](1)\n",
      "memory usage: 284.8 KB\n"
     ]
    }
   ],
   "source": [
    "clean_df[['issue_d']].info()"
   ]
  },
  {
   "cell_type": "code",
   "execution_count": 42,
   "metadata": {},
   "outputs": [
    {
     "name": "stdout",
     "output_type": "stream",
     "text": [
      "[2011, 2010, 2009, 2008, 2007]\n"
     ]
    }
   ],
   "source": [
    "print(list(clean_df.issue_d.dt.year.unique()))\n"
   ]
  },
  {
   "cell_type": "code",
   "execution_count": 43,
   "metadata": {},
   "outputs": [
    {
     "data": {
      "text/plain": [
       "0        12\n",
       "1        12\n",
       "2        12\n",
       "3        12\n",
       "4        12\n",
       "         ..\n",
       "36428    12\n",
       "36429    11\n",
       "36430    10\n",
       "36431     8\n",
       "36432     8\n",
       "Name: issue_d_month, Length: 36433, dtype: int64"
      ]
     },
     "execution_count": 43,
     "metadata": {},
     "output_type": "execute_result"
    }
   ],
   "source": [
    "clean_df['issue_d_month'] = clean_df['issue_d'].dt.month\n",
    "clean_df['issue_d_year'] = clean_df['issue_d'].dt.year\n",
    "clean_df['issue_d_month']"
   ]
  },
  {
   "cell_type": "code",
   "execution_count": 44,
   "metadata": {},
   "outputs": [
    {
     "data": {
      "text/plain": [
       "array([1999, 1996, 2004, 2005, 2007, 1998, 1989, 2003, 1991, 1993, 2001,\n",
       "       1997, 1983, 1985, 2002, 1984, 2006, 1981, 2000, 1994, 1995, 1992,\n",
       "       1986, 1990, 1988, 1980, 2008, 1973, 1979, 1987, 1982, 1978, 1971,\n",
       "       1972, 1970, 1969, 1975, 1976, 1977, 2068, 1974, 2067, 2065, 2063,\n",
       "       2066, 2062, 2056, 2046, 2050, 2064, 2054], dtype=int64)"
      ]
     },
     "execution_count": 44,
     "metadata": {},
     "output_type": "execute_result"
    }
   ],
   "source": [
    "clean_df.earliest_cr_line.dt.year.unique()"
   ]
  },
  {
   "cell_type": "markdown",
   "metadata": {},
   "source": [
    " According to __data_dictionary.xlsx___,\n",
    "\n",
    "__earliest_cr_line__: The month the borrower's earliest reported credit line was opened. We shall split the date column into earliest_cr_line_month and earliest_cr_line_year We shall also split the available date into month and year attributes."
   ]
  },
  {
   "cell_type": "code",
   "execution_count": 45,
   "metadata": {},
   "outputs": [],
   "source": [
    "# earliest_cr_line seperating the month and year \n",
    "clean_df['earliest_cr_line_month'] = clean_df['earliest_cr_line'].dt.month\n",
    "clean_df['earliest_cr_line_year'] = clean_df['earliest_cr_line'].dt.year"
   ]
  },
  {
   "cell_type": "markdown",
   "metadata": {},
   "source": [
    "According to Data Dictionay earliest_cr_line is the earliest_cr_line: The month the borrower's earliest reported credit line was opened. the earliest credit line date greater than 2011."
   ]
  },
  {
   "cell_type": "code",
   "execution_count": 46,
   "metadata": {},
   "outputs": [
    {
     "data": {
      "text/plain": [
       "50"
      ]
     },
     "execution_count": 46,
     "metadata": {},
     "output_type": "execute_result"
    }
   ],
   "source": [
    "len(clean_df[clean_df['earliest_cr_line_year'] > 2011 ])"
   ]
  },
  {
   "cell_type": "markdown",
   "metadata": {},
   "source": [
    "Thus, we observe that there are 50 records with the earliest credit line date greater than 2011 (which is the max range of the data we have)."
   ]
  },
  {
   "cell_type": "code",
   "execution_count": 47,
   "metadata": {},
   "outputs": [],
   "source": [
    "clean_df.loc[clean_df['earliest_cr_line_year'] > 2011 , 'earliest_cr_line_year'] = clean_df['earliest_cr_line_year'] - 100"
   ]
  },
  {
   "cell_type": "code",
   "execution_count": 48,
   "metadata": {},
   "outputs": [
    {
     "name": "stdout",
     "output_type": "stream",
     "text": [
      "11196.569430    26\n",
      "11784.232230    16\n",
      "13148.137860    15\n",
      "5478.387981     13\n",
      "10956.775960    13\n",
      "                ..\n",
      "10417.384800     1\n",
      "14040.768530     1\n",
      "8954.809409      1\n",
      "4561.076763      1\n",
      "4608.000000      1\n",
      "Name: total_pymnt, Length: 34802, dtype: int64\n",
      "0.000000     34618\n",
      "15.000000      224\n",
      "30.000000       51\n",
      "15.000000       49\n",
      "15.000000       42\n",
      "             ...  \n",
      "14.971231        1\n",
      "52.840000        1\n",
      "14.997547        1\n",
      "33.483779        1\n",
      "17.165009        1\n",
      "Name: total_rec_late_fee, Length: 1194, dtype: int64\n",
      "0.0000      33100\n",
      "1.2000         10\n",
      "2.0000          9\n",
      "1.6900          8\n",
      "0.8000          8\n",
      "            ...  \n",
      "9.6738          1\n",
      "33.2896         1\n",
      "6.9239          1\n",
      "340.0000        1\n",
      "258.9138        1\n",
      "Name: collection_recovery_fee, Length: 2386, dtype: int64\n"
     ]
    }
   ],
   "source": [
    "print(clean_df.total_pymnt.value_counts())\n",
    "print(clean_df.total_rec_late_fee.value_counts())\n",
    "print(clean_df.collection_recovery_fee.value_counts())"
   ]
  },
  {
   "cell_type": "markdown",
   "metadata": {},
   "source": [
    "Most of the values are not standardized. we can make standardized by rounding off to 2\n"
   ]
  },
  {
   "cell_type": "code",
   "execution_count": 49,
   "metadata": {},
   "outputs": [],
   "source": [
    "# Standardzing all columns wiht 2 decimal points by using the round function\n",
    "clean_df.total_pymnt= round(clean_df.total_pymnt,2)\n",
    "clean_df.total_rec_late_fee= round(clean_df.total_rec_late_fee,2)\n",
    "clean_df.collection_recovery_fee= round(clean_df.collection_recovery_fee,2)"
   ]
  },
  {
   "cell_type": "code",
   "execution_count": 50,
   "metadata": {},
   "outputs": [
    {
     "name": "stdout",
     "output_type": "stream",
     "text": [
      "11196.57    26\n",
      "13148.14    17\n",
      "6717.95     16\n",
      "11784.23    16\n",
      "6514.52     15\n",
      "            ..\n",
      "9289.47      1\n",
      "14184.81     1\n",
      "8383.48      1\n",
      "53127.22     1\n",
      "4608.00      1\n",
      "Name: total_pymnt, Length: 33680, dtype: int64\n",
      "0.00     34618\n",
      "15.00      543\n",
      "30.00      114\n",
      "14.98       60\n",
      "14.99       43\n",
      "         ...  \n",
      "16.97        1\n",
      "29.63        1\n",
      "36.92        1\n",
      "16.29        1\n",
      "38.64        1\n",
      "Name: total_rec_late_fee, Length: 715, dtype: int64\n",
      "0.00      33100\n",
      "1.20         12\n",
      "0.80         10\n",
      "1.69         10\n",
      "3.23         10\n",
      "          ...  \n",
      "412.17        1\n",
      "764.77        1\n",
      "216.53        1\n",
      "107.54        1\n",
      "5.45          1\n",
      "Name: collection_recovery_fee, Length: 1946, dtype: int64\n"
     ]
    }
   ],
   "source": [
    "print(clean_df.total_pymnt.value_counts())\n",
    "print(clean_df.total_rec_late_fee.value_counts())\n",
    "print(clean_df.collection_recovery_fee.value_counts())"
   ]
  },
  {
   "cell_type": "code",
   "execution_count": 51,
   "metadata": {},
   "outputs": [
    {
     "data": {
      "text/plain": [
       "10+ years    8407\n",
       "2 years      4178\n",
       "< 1 year     4052\n",
       "3 years      3914\n",
       "4 years      3297\n",
       "5 years      3129\n",
       "1 year       3026\n",
       "6 years      2121\n",
       "7 years      1697\n",
       "8 years      1405\n",
       "9 years      1207\n",
       "Name: emp_length, dtype: int64"
      ]
     },
     "execution_count": 51,
     "metadata": {},
     "output_type": "execute_result"
    }
   ],
   "source": [
    "clean_df['emp_length'].value_counts()"
   ]
  },
  {
   "cell_type": "markdown",
   "metadata": {},
   "source": [
    "__'emp_length'__ has values like 1 to 10+ years and < and  need to replace Years and  < by using replace fuction "
   ]
  },
  {
   "cell_type": "code",
   "execution_count": 52,
   "metadata": {},
   "outputs": [
    {
     "data": {
      "text/plain": [
       "10+         8407\n",
       "2           4178\n",
       "< 1 year    4052\n",
       "3           3914\n",
       "4           3297\n",
       "5           3129\n",
       "1 year      3026\n",
       "6           2121\n",
       "7           1697\n",
       "8           1405\n",
       "9           1207\n",
       "Name: emp_length, dtype: int64"
      ]
     },
     "execution_count": 52,
     "metadata": {},
     "output_type": "execute_result"
    }
   ],
   "source": [
    "clean_df['emp_length'] = clean_df['emp_length'].apply(lambda x: x.replace(' years',''))\n",
    "clean_df['emp_length'].value_counts()"
   ]
  },
  {
   "cell_type": "code",
   "execution_count": 53,
   "metadata": {},
   "outputs": [
    {
     "data": {
      "text/plain": [
       "10+    8407\n",
       "2      4178\n",
       "< 1    4052\n",
       "3      3914\n",
       "4      3297\n",
       "5      3129\n",
       "1      3026\n",
       "6      2121\n",
       "7      1697\n",
       "8      1405\n",
       "9      1207\n",
       "Name: emp_length, dtype: int64"
      ]
     },
     "execution_count": 53,
     "metadata": {},
     "output_type": "execute_result"
    }
   ],
   "source": [
    "clean_df['emp_length'] = clean_df['emp_length'].apply(lambda x: x.replace(' year',''))\n",
    "clean_df['emp_length'].value_counts()"
   ]
  },
  {
   "cell_type": "code",
   "execution_count": 54,
   "metadata": {},
   "outputs": [
    {
     "data": {
      "text/plain": [
       "10+    8407\n",
       "2      4178\n",
       "0.5    4052\n",
       "3      3914\n",
       "4      3297\n",
       "5      3129\n",
       "1      3026\n",
       "6      2121\n",
       "7      1697\n",
       "8      1405\n",
       "9      1207\n",
       "Name: emp_length, dtype: int64"
      ]
     },
     "execution_count": 54,
     "metadata": {},
     "output_type": "execute_result"
    }
   ],
   "source": [
    "clean_df['emp_length'] = clean_df['emp_length'].apply(lambda x: x.replace('< 1','0.5'))\n",
    "clean_df['emp_length'].value_counts()\n",
    "\n"
   ]
  },
  {
   "cell_type": "code",
   "execution_count": 55,
   "metadata": {},
   "outputs": [
    {
     "data": {
      "text/plain": [
       "10     8407\n",
       "2      4178\n",
       "0.5    4052\n",
       "3      3914\n",
       "4      3297\n",
       "5      3129\n",
       "1      3026\n",
       "6      2121\n",
       "7      1697\n",
       "8      1405\n",
       "9      1207\n",
       "Name: emp_length, dtype: int64"
      ]
     },
     "execution_count": 55,
     "metadata": {},
     "output_type": "execute_result"
    }
   ],
   "source": [
    "clean_df['emp_length'] = clean_df['emp_length'].apply(lambda x: x.replace('+',''))\n",
    "clean_df['emp_length'].value_counts()"
   ]
  },
  {
   "cell_type": "code",
   "execution_count": 56,
   "metadata": {},
   "outputs": [
    {
     "name": "stdout",
     "output_type": "stream",
     "text": [
      "<class 'pandas.core.frame.DataFrame'>\n",
      "RangeIndex: 36433 entries, 0 to 36432\n",
      "Data columns (total 1 columns):\n",
      " #   Column      Non-Null Count  Dtype \n",
      "---  ------      --------------  ----- \n",
      " 0   emp_length  36433 non-null  object\n",
      "dtypes: object(1)\n",
      "memory usage: 284.8+ KB\n"
     ]
    }
   ],
   "source": [
    "clean_df[['emp_length']].info()"
   ]
  },
  {
   "cell_type": "code",
   "execution_count": 57,
   "metadata": {},
   "outputs": [
    {
     "name": "stdout",
     "output_type": "stream",
     "text": [
      "<class 'pandas.core.frame.DataFrame'>\n",
      "RangeIndex: 36433 entries, 0 to 36432\n",
      "Data columns (total 1 columns):\n",
      " #   Column      Non-Null Count  Dtype  \n",
      "---  ------      --------------  -----  \n",
      " 0   emp_length  36433 non-null  float64\n",
      "dtypes: float64(1)\n",
      "memory usage: 284.8 KB\n"
     ]
    }
   ],
   "source": [
    "clean_df['emp_length'] = clean_df['emp_length'].apply(lambda x: float(x))\n",
    "clean_df[['emp_length']].info()"
   ]
  },
  {
   "cell_type": "code",
   "execution_count": 58,
   "metadata": {},
   "outputs": [
    {
     "data": {
      "text/plain": [
       "Not Verified       15056\n",
       "Verified           11926\n",
       "Source Verified     9451\n",
       "Name: verification_status, dtype: int64"
      ]
     },
     "execution_count": 58,
     "metadata": {},
     "output_type": "execute_result"
    }
   ],
   "source": [
    "clean_df['verification_status'].value_counts()"
   ]
  },
  {
   "cell_type": "markdown",
   "metadata": {},
   "source": [
    "Creating the bins based on __interest rate__ "
   ]
  },
  {
   "cell_type": "code",
   "execution_count": 59,
   "metadata": {},
   "outputs": [
    {
     "data": {
      "text/plain": [
       "array([15.27, 13.49, 12.69,  7.9 , 15.96, 18.64, 14.65,  9.91, 10.65,\n",
       "       16.29,  6.03, 11.71, 12.42, 16.77,  8.9 ,  7.51,  6.62, 19.91,\n",
       "       17.27, 14.27, 21.28, 17.58, 21.67, 19.42, 22.06, 20.89, 18.25,\n",
       "       20.3 , 23.91, 19.03, 23.52, 23.13, 22.74, 22.35, 24.11,  6.  ,\n",
       "       22.11,  7.49, 11.99,  5.99, 10.99,  9.99, 18.79, 11.49, 15.99,\n",
       "       16.49,  6.99, 12.99, 15.23, 14.79,  8.49,  5.42, 17.49, 10.59,\n",
       "       15.62, 21.36, 19.29, 13.99, 18.39, 16.89, 17.99, 20.62, 20.99,\n",
       "       22.85, 19.69, 20.25, 23.22, 21.74, 22.48, 23.59, 12.62, 18.07,\n",
       "       11.63,  7.91,  7.42, 11.14, 20.2 , 12.12, 19.39, 16.11, 17.54,\n",
       "       16.59, 17.19, 12.87, 20.69,  9.67, 21.82, 19.79, 18.49, 13.84,\n",
       "       22.94, 24.4 , 21.48, 14.82, 17.88, 20.11, 16.02, 17.51, 13.06,\n",
       "       14.91, 15.28, 17.14, 13.43, 11.11, 10.37, 14.17, 16.4 , 15.65,\n",
       "        7.66, 10.  , 10.74,  7.29,  5.79,  6.92,  9.63, 14.54, 12.68,\n",
       "       18.62, 19.36, 13.8 , 18.99, 21.59, 20.85, 21.22, 19.74, 20.48,\n",
       "        6.91, 12.23, 12.61, 10.36,  6.17,  6.54,  9.25, 16.69, 15.95,\n",
       "        8.88, 13.35,  9.62, 16.32, 12.98, 14.83, 13.72, 14.09, 14.46,\n",
       "       20.03, 17.8 , 15.2 , 15.57, 18.54, 19.66, 17.06, 18.17, 17.43,\n",
       "       20.4 , 20.77, 18.91, 21.14, 17.44, 13.23, 11.12,  7.88, 13.61,\n",
       "       10.38, 17.56, 17.93, 15.58, 13.98, 14.84, 15.21,  6.76,  6.39,\n",
       "       11.86,  7.14, 14.35, 16.82, 10.75, 14.72, 16.45, 20.53, 19.41,\n",
       "       20.16, 21.27, 18.3 , 18.67, 19.04, 20.9 , 21.64, 12.73, 10.25,\n",
       "       13.11, 10.62, 13.48, 14.59, 16.07, 15.7 ,  9.88, 11.36, 15.33,\n",
       "       13.85, 14.96, 14.22,  7.74, 13.22,  8.59, 17.04, 14.61,  8.94,\n",
       "       12.18, 11.83, 11.48, 16.35, 13.92, 15.31, 14.26, 12.53, 13.57,\n",
       "       19.13, 16.7 , 16.  , 18.09, 17.39, 18.43,  7.4 , 17.74,  7.05,\n",
       "       20.86, 19.47, 18.78, 21.21, 19.82, 20.17, 13.16, 13.47,  8.  ,\n",
       "       12.21, 16.63,  9.32, 12.84, 11.26, 15.68, 15.37, 10.95, 11.89,\n",
       "       14.11, 13.79,  7.68, 11.58,  7.37, 16.95, 15.05, 18.53, 14.74,\n",
       "       14.42, 18.21, 17.26, 18.84, 17.9 , 19.16, 13.67,  9.38, 12.72,\n",
       "       13.36, 11.46, 10.51,  9.07, 11.78, 12.41, 13.04, 10.83, 12.09,\n",
       "       17.46, 14.3 , 17.15, 10.2 , 15.88, 14.93, 16.2 , 18.72, 15.25,\n",
       "       14.62,  8.32, 14.12, 10.96, 10.33, 10.01, 12.86, 11.28, 11.59,\n",
       "        8.63, 12.54, 12.22, 15.38, 16.96, 11.91,  9.7 , 16.33, 14.75,\n",
       "       13.17, 15.07, 16.01, 10.71, 10.64,  9.76, 11.34, 10.39, 13.87,\n",
       "       11.03, 11.66, 13.24, 10.08,  9.45, 13.55, 12.29, 11.97, 12.92,\n",
       "       14.5 , 14.18, 15.45, 15.13, 16.08, 15.76, 17.03, 10.46, 13.93,\n",
       "       10.78,  9.51, 12.36, 13.3 ,  9.83,  9.01, 10.91, 10.28, 12.49,\n",
       "       11.22])"
      ]
     },
     "execution_count": 59,
     "metadata": {},
     "output_type": "execute_result"
    }
   ],
   "source": [
    "clean_df['int_rate'].unique()"
   ]
  },
  {
   "cell_type": "markdown",
   "metadata": {},
   "source": [
    "Clearly see that the values are ranging from greater than 5% AND Less than 25% we can make bins as \n",
    "  Less Than 10% - Low\n",
    "  Between 10-15% -Medium\n",
    "  Greater than 15% -High"
   ]
  },
  {
   "cell_type": "code",
   "execution_count": 60,
   "metadata": {},
   "outputs": [
    {
     "data": {
      "text/plain": [
       "Medium    17261\n",
       "Low       10934\n",
       "High       8238\n",
       "Name: int_rate_bin, dtype: int64"
      ]
     },
     "execution_count": 60,
     "metadata": {},
     "output_type": "execute_result"
    }
   ],
   "source": [
    "def inrate_bin(x):\n",
    "    if x < 10.0:\n",
    "        return 'Low'\n",
    "    elif 10.0< x <15.0:\n",
    "        return 'Medium'\n",
    "    else:\n",
    "        return 'High'\n",
    "clean_df['int_rate_bin']= clean_df['int_rate'].apply(inrate_bin)\n",
    "clean_df['int_rate_bin'].value_counts()"
   ]
  },
  {
   "cell_type": "markdown",
   "metadata": {},
   "source": [
    "According to case the __loan_status__ having the current neither come into default or non default so we an remove the rows which having the loan_status as __current__."
   ]
  },
  {
   "cell_type": "code",
   "execution_count": 61,
   "metadata": {},
   "outputs": [
    {
     "data": {
      "text/plain": [
       "(1066, 43)"
      ]
     },
     "execution_count": 61,
     "metadata": {},
     "output_type": "execute_result"
    }
   ],
   "source": [
    "clean_df[clean_df['loan_status']=='Current'].shape"
   ]
  },
  {
   "cell_type": "markdown",
   "metadata": {},
   "source": [
    "Remove the __1066__ rows from the clean_df to analyse the risk by condition of Current"
   ]
  },
  {
   "cell_type": "code",
   "execution_count": 62,
   "metadata": {},
   "outputs": [
    {
     "data": {
      "text/plain": [
       "(35367, 43)"
      ]
     },
     "execution_count": 62,
     "metadata": {},
     "output_type": "execute_result"
    }
   ],
   "source": [
    "clean_df1 = clean_df[clean_df['loan_status']!='Current']\n",
    "clean_df1.shape"
   ]
  },
  {
   "cell_type": "code",
   "execution_count": 63,
   "metadata": {},
   "outputs": [
    {
     "data": {
      "text/plain": [
       "Fully Paid     30424\n",
       "Charged Off     4943\n",
       "Name: loan_status, dtype: int64"
      ]
     },
     "execution_count": 63,
     "metadata": {},
     "output_type": "execute_result"
    }
   ],
   "source": [
    "clean_df1.loan_status.value_counts()"
   ]
  },
  {
   "cell_type": "code",
   "execution_count": 64,
   "metadata": {},
   "outputs": [
    {
     "name": "stderr",
     "output_type": "stream",
     "text": [
      "<ipython-input-64-1ec7795a3275>:2: SettingWithCopyWarning: \n",
      "A value is trying to be set on a copy of a slice from a DataFrame.\n",
      "Try using .loc[row_indexer,col_indexer] = value instead\n",
      "\n",
      "See the caveats in the documentation: https://pandas.pydata.org/pandas-docs/stable/user_guide/indexing.html#returning-a-view-versus-a-copy\n",
      "  clean_df1['loan_status_bin'] = clean_df1['loan_status'].apply(lambda x: 1 if x =='Charged Off' else 0)\n"
     ]
    },
    {
     "data": {
      "text/plain": [
       "0    30424\n",
       "1     4943\n",
       "Name: loan_status_bin, dtype: int64"
      ]
     },
     "execution_count": 64,
     "metadata": {},
     "output_type": "execute_result"
    }
   ],
   "source": [
    "#Convert the Charged Off to categorical variable 0 and 1 to Visualize data effectly.\n",
    "clean_df1['loan_status_bin'] = clean_df1['loan_status'].apply(lambda x: 1 if x =='Charged Off' else 0)\n",
    "clean_df1['loan_status_bin'].value_counts()"
   ]
  },
  {
   "cell_type": "code",
   "execution_count": 65,
   "metadata": {},
   "outputs": [
    {
     "data": {
      "text/plain": [
       "(35367, 44)"
      ]
     },
     "execution_count": 65,
     "metadata": {},
     "output_type": "execute_result"
    }
   ],
   "source": [
    "clean_df1.shape"
   ]
  },
  {
   "cell_type": "markdown",
   "metadata": {},
   "source": [
    "Save the Data frame which has __refined Columns__ into master.csv for Data Analysis"
   ]
  },
  {
   "cell_type": "code",
   "execution_count": 66,
   "metadata": {},
   "outputs": [],
   "source": [
    "clean_df1.to_csv('master.csv', index=False)"
   ]
  },
  {
   "cell_type": "markdown",
   "metadata": {},
   "source": [
    "# Data Analysis for Loan Club  Case Study"
   ]
  },
  {
   "cell_type": "code",
   "execution_count": 67,
   "metadata": {},
   "outputs": [
    {
     "data": {
      "text/html": [
       "<div>\n",
       "<style scoped>\n",
       "    .dataframe tbody tr th:only-of-type {\n",
       "        vertical-align: middle;\n",
       "    }\n",
       "\n",
       "    .dataframe tbody tr th {\n",
       "        vertical-align: top;\n",
       "    }\n",
       "\n",
       "    .dataframe thead th {\n",
       "        text-align: right;\n",
       "    }\n",
       "</style>\n",
       "<table border=\"1\" class=\"dataframe\">\n",
       "  <thead>\n",
       "    <tr style=\"text-align: right;\">\n",
       "      <th></th>\n",
       "      <th>loan_amnt</th>\n",
       "      <th>term</th>\n",
       "      <th>int_rate</th>\n",
       "      <th>installment</th>\n",
       "      <th>grade</th>\n",
       "      <th>sub_grade</th>\n",
       "      <th>emp_title</th>\n",
       "      <th>emp_length</th>\n",
       "      <th>home_ownership</th>\n",
       "      <th>annual_inc</th>\n",
       "      <th>...</th>\n",
       "      <th>last_pymnt_d</th>\n",
       "      <th>last_pymnt_amnt</th>\n",
       "      <th>last_credit_pull_d</th>\n",
       "      <th>pub_rec_bankruptcies</th>\n",
       "      <th>issue_d_month</th>\n",
       "      <th>issue_d_year</th>\n",
       "      <th>earliest_cr_line_month</th>\n",
       "      <th>earliest_cr_line_year</th>\n",
       "      <th>int_rate_bin</th>\n",
       "      <th>loan_status_bin</th>\n",
       "    </tr>\n",
       "  </thead>\n",
       "  <tbody>\n",
       "    <tr>\n",
       "      <th>0</th>\n",
       "      <td>2500</td>\n",
       "      <td>60</td>\n",
       "      <td>15.27</td>\n",
       "      <td>59.83</td>\n",
       "      <td>C</td>\n",
       "      <td>C4</td>\n",
       "      <td>Ryder</td>\n",
       "      <td>0.5</td>\n",
       "      <td>RENT</td>\n",
       "      <td>30000.0</td>\n",
       "      <td>...</td>\n",
       "      <td>2013-04-01</td>\n",
       "      <td>119.66</td>\n",
       "      <td>2013-09-01</td>\n",
       "      <td>0.0</td>\n",
       "      <td>12</td>\n",
       "      <td>2011</td>\n",
       "      <td>4</td>\n",
       "      <td>1999</td>\n",
       "      <td>High</td>\n",
       "      <td>1</td>\n",
       "    </tr>\n",
       "    <tr>\n",
       "      <th>1</th>\n",
       "      <td>10000</td>\n",
       "      <td>36</td>\n",
       "      <td>13.49</td>\n",
       "      <td>339.31</td>\n",
       "      <td>C</td>\n",
       "      <td>C1</td>\n",
       "      <td>AIR RESOURCES BOARD</td>\n",
       "      <td>10.0</td>\n",
       "      <td>RENT</td>\n",
       "      <td>49200.0</td>\n",
       "      <td>...</td>\n",
       "      <td>2015-01-01</td>\n",
       "      <td>357.48</td>\n",
       "      <td>2016-04-01</td>\n",
       "      <td>0.0</td>\n",
       "      <td>12</td>\n",
       "      <td>2011</td>\n",
       "      <td>2</td>\n",
       "      <td>1996</td>\n",
       "      <td>Medium</td>\n",
       "      <td>0</td>\n",
       "    </tr>\n",
       "    <tr>\n",
       "      <th>2</th>\n",
       "      <td>5000</td>\n",
       "      <td>36</td>\n",
       "      <td>7.90</td>\n",
       "      <td>156.46</td>\n",
       "      <td>A</td>\n",
       "      <td>A4</td>\n",
       "      <td>Veolia Transportaton</td>\n",
       "      <td>3.0</td>\n",
       "      <td>RENT</td>\n",
       "      <td>36000.0</td>\n",
       "      <td>...</td>\n",
       "      <td>2015-01-01</td>\n",
       "      <td>161.03</td>\n",
       "      <td>2016-01-01</td>\n",
       "      <td>0.0</td>\n",
       "      <td>12</td>\n",
       "      <td>2011</td>\n",
       "      <td>11</td>\n",
       "      <td>2004</td>\n",
       "      <td>Low</td>\n",
       "      <td>0</td>\n",
       "    </tr>\n",
       "    <tr>\n",
       "      <th>3</th>\n",
       "      <td>7000</td>\n",
       "      <td>60</td>\n",
       "      <td>15.96</td>\n",
       "      <td>170.08</td>\n",
       "      <td>C</td>\n",
       "      <td>C5</td>\n",
       "      <td>Southern Star Photography</td>\n",
       "      <td>8.0</td>\n",
       "      <td>RENT</td>\n",
       "      <td>47004.0</td>\n",
       "      <td>...</td>\n",
       "      <td>2016-05-01</td>\n",
       "      <td>1313.76</td>\n",
       "      <td>2016-05-01</td>\n",
       "      <td>0.0</td>\n",
       "      <td>12</td>\n",
       "      <td>2011</td>\n",
       "      <td>7</td>\n",
       "      <td>2005</td>\n",
       "      <td>High</td>\n",
       "      <td>0</td>\n",
       "    </tr>\n",
       "    <tr>\n",
       "      <th>4</th>\n",
       "      <td>3000</td>\n",
       "      <td>36</td>\n",
       "      <td>18.64</td>\n",
       "      <td>109.43</td>\n",
       "      <td>E</td>\n",
       "      <td>E1</td>\n",
       "      <td>MKC Accounting</td>\n",
       "      <td>9.0</td>\n",
       "      <td>RENT</td>\n",
       "      <td>48000.0</td>\n",
       "      <td>...</td>\n",
       "      <td>2015-01-01</td>\n",
       "      <td>111.34</td>\n",
       "      <td>2014-12-01</td>\n",
       "      <td>0.0</td>\n",
       "      <td>12</td>\n",
       "      <td>2011</td>\n",
       "      <td>1</td>\n",
       "      <td>2007</td>\n",
       "      <td>High</td>\n",
       "      <td>0</td>\n",
       "    </tr>\n",
       "  </tbody>\n",
       "</table>\n",
       "<p>5 rows × 44 columns</p>\n",
       "</div>"
      ],
      "text/plain": [
       "   loan_amnt  term  int_rate  installment grade sub_grade  \\\n",
       "0       2500    60     15.27        59.83     C        C4   \n",
       "1      10000    36     13.49       339.31     C        C1   \n",
       "2       5000    36      7.90       156.46     A        A4   \n",
       "3       7000    60     15.96       170.08     C        C5   \n",
       "4       3000    36     18.64       109.43     E        E1   \n",
       "\n",
       "                   emp_title  emp_length home_ownership  annual_inc  ...  \\\n",
       "0                      Ryder         0.5           RENT     30000.0  ...   \n",
       "1        AIR RESOURCES BOARD        10.0           RENT     49200.0  ...   \n",
       "2       Veolia Transportaton         3.0           RENT     36000.0  ...   \n",
       "3  Southern Star Photography         8.0           RENT     47004.0  ...   \n",
       "4            MKC Accounting          9.0           RENT     48000.0  ...   \n",
       "\n",
       "  last_pymnt_d last_pymnt_amnt last_credit_pull_d pub_rec_bankruptcies  \\\n",
       "0   2013-04-01          119.66         2013-09-01                  0.0   \n",
       "1   2015-01-01          357.48         2016-04-01                  0.0   \n",
       "2   2015-01-01          161.03         2016-01-01                  0.0   \n",
       "3   2016-05-01         1313.76         2016-05-01                  0.0   \n",
       "4   2015-01-01          111.34         2014-12-01                  0.0   \n",
       "\n",
       "  issue_d_month issue_d_year  earliest_cr_line_month  earliest_cr_line_year  \\\n",
       "0            12         2011                       4                   1999   \n",
       "1            12         2011                       2                   1996   \n",
       "2            12         2011                      11                   2004   \n",
       "3            12         2011                       7                   2005   \n",
       "4            12         2011                       1                   2007   \n",
       "\n",
       "  int_rate_bin  loan_status_bin  \n",
       "0         High                1  \n",
       "1       Medium                0  \n",
       "2          Low                0  \n",
       "3         High                0  \n",
       "4         High                0  \n",
       "\n",
       "[5 rows x 44 columns]"
      ]
     },
     "execution_count": 67,
     "metadata": {},
     "output_type": "execute_result"
    }
   ],
   "source": [
    "master_df = pd.read_csv('master.csv')\n",
    "master_df.head()"
   ]
  },
  {
   "cell_type": "code",
   "execution_count": 68,
   "metadata": {},
   "outputs": [
    {
     "name": "stdout",
     "output_type": "stream",
     "text": [
      "<class 'pandas.core.frame.DataFrame'>\n",
      "RangeIndex: 35367 entries, 0 to 35366\n",
      "Data columns (total 44 columns):\n",
      " #   Column                   Non-Null Count  Dtype  \n",
      "---  ------                   --------------  -----  \n",
      " 0   loan_amnt                35367 non-null  int64  \n",
      " 1   term                     35367 non-null  int64  \n",
      " 2   int_rate                 35367 non-null  float64\n",
      " 3   installment              35367 non-null  float64\n",
      " 4   grade                    35367 non-null  object \n",
      " 5   sub_grade                35367 non-null  object \n",
      " 6   emp_title                35367 non-null  object \n",
      " 7   emp_length               35367 non-null  float64\n",
      " 8   home_ownership           35367 non-null  object \n",
      " 9   annual_inc               35367 non-null  float64\n",
      " 10  verification_status      35367 non-null  object \n",
      " 11  issue_d                  35367 non-null  object \n",
      " 12  loan_status              35367 non-null  object \n",
      " 13  purpose                  35367 non-null  object \n",
      " 14  title                    35367 non-null  object \n",
      " 15  addr_state               35367 non-null  object \n",
      " 16  dti                      35367 non-null  float64\n",
      " 17  delinq_2yrs              35367 non-null  int64  \n",
      " 18  earliest_cr_line         35367 non-null  object \n",
      " 19  inq_last_6mths           35367 non-null  int64  \n",
      " 20  open_acc                 35367 non-null  int64  \n",
      " 21  pub_rec                  35367 non-null  int64  \n",
      " 22  revol_bal                35367 non-null  int64  \n",
      " 23  revol_util               35367 non-null  float64\n",
      " 24  total_acc                35367 non-null  int64  \n",
      " 25  out_prncp                35367 non-null  float64\n",
      " 26  out_prncp_inv            35367 non-null  float64\n",
      " 27  total_pymnt              35367 non-null  float64\n",
      " 28  total_pymnt_inv          35367 non-null  float64\n",
      " 29  total_rec_prncp          35367 non-null  float64\n",
      " 30  total_rec_int            35367 non-null  float64\n",
      " 31  total_rec_late_fee       35367 non-null  float64\n",
      " 32  recoveries               35367 non-null  float64\n",
      " 33  collection_recovery_fee  35367 non-null  float64\n",
      " 34  last_pymnt_d             35367 non-null  object \n",
      " 35  last_pymnt_amnt          35367 non-null  float64\n",
      " 36  last_credit_pull_d       35367 non-null  object \n",
      " 37  pub_rec_bankruptcies     35367 non-null  float64\n",
      " 38  issue_d_month            35367 non-null  int64  \n",
      " 39  issue_d_year             35367 non-null  int64  \n",
      " 40  earliest_cr_line_month   35367 non-null  int64  \n",
      " 41  earliest_cr_line_year    35367 non-null  int64  \n",
      " 42  int_rate_bin             35367 non-null  object \n",
      " 43  loan_status_bin          35367 non-null  int64  \n",
      "dtypes: float64(17), int64(13), object(14)\n",
      "memory usage: 11.9+ MB\n"
     ]
    }
   ],
   "source": [
    "master_df.info()"
   ]
  },
  {
   "cell_type": "code",
   "execution_count": 69,
   "metadata": {},
   "outputs": [
    {
     "data": {
      "text/html": [
       "<div>\n",
       "<style scoped>\n",
       "    .dataframe tbody tr th:only-of-type {\n",
       "        vertical-align: middle;\n",
       "    }\n",
       "\n",
       "    .dataframe tbody tr th {\n",
       "        vertical-align: top;\n",
       "    }\n",
       "\n",
       "    .dataframe thead th {\n",
       "        text-align: right;\n",
       "    }\n",
       "</style>\n",
       "<table border=\"1\" class=\"dataframe\">\n",
       "  <thead>\n",
       "    <tr style=\"text-align: right;\">\n",
       "      <th></th>\n",
       "      <th>loan_amnt</th>\n",
       "      <th>term</th>\n",
       "      <th>int_rate</th>\n",
       "      <th>installment</th>\n",
       "      <th>emp_length</th>\n",
       "      <th>annual_inc</th>\n",
       "      <th>dti</th>\n",
       "      <th>delinq_2yrs</th>\n",
       "      <th>inq_last_6mths</th>\n",
       "      <th>open_acc</th>\n",
       "      <th>...</th>\n",
       "      <th>total_rec_late_fee</th>\n",
       "      <th>recoveries</th>\n",
       "      <th>collection_recovery_fee</th>\n",
       "      <th>last_pymnt_amnt</th>\n",
       "      <th>pub_rec_bankruptcies</th>\n",
       "      <th>issue_d_month</th>\n",
       "      <th>issue_d_year</th>\n",
       "      <th>earliest_cr_line_month</th>\n",
       "      <th>earliest_cr_line_year</th>\n",
       "      <th>loan_status_bin</th>\n",
       "    </tr>\n",
       "  </thead>\n",
       "  <tbody>\n",
       "    <tr>\n",
       "      <th>count</th>\n",
       "      <td>35367.000000</td>\n",
       "      <td>35367.000000</td>\n",
       "      <td>35367.000000</td>\n",
       "      <td>35367.000000</td>\n",
       "      <td>35367.000000</td>\n",
       "      <td>3.536700e+04</td>\n",
       "      <td>35367.000000</td>\n",
       "      <td>35367.000000</td>\n",
       "      <td>35367.000000</td>\n",
       "      <td>35367.000000</td>\n",
       "      <td>...</td>\n",
       "      <td>35367.000000</td>\n",
       "      <td>35367.000000</td>\n",
       "      <td>35367.000000</td>\n",
       "      <td>35367.00000</td>\n",
       "      <td>35367.000000</td>\n",
       "      <td>35367.000000</td>\n",
       "      <td>35367.000000</td>\n",
       "      <td>35367.000000</td>\n",
       "      <td>35367.000000</td>\n",
       "      <td>35367.000000</td>\n",
       "    </tr>\n",
       "    <tr>\n",
       "      <th>mean</th>\n",
       "      <td>11133.071790</td>\n",
       "      <td>42.100602</td>\n",
       "      <td>11.983468</td>\n",
       "      <td>324.043982</td>\n",
       "      <td>5.039783</td>\n",
       "      <td>6.909599e+04</td>\n",
       "      <td>13.403961</td>\n",
       "      <td>0.146323</td>\n",
       "      <td>0.866995</td>\n",
       "      <td>9.332004</td>\n",
       "      <td>...</td>\n",
       "      <td>1.306105</td>\n",
       "      <td>95.654256</td>\n",
       "      <td>12.029025</td>\n",
       "      <td>2813.59290</td>\n",
       "      <td>0.041677</td>\n",
       "      <td>7.153194</td>\n",
       "      <td>2010.354653</td>\n",
       "      <td>6.899511</td>\n",
       "      <td>1996.815987</td>\n",
       "      <td>0.139763</td>\n",
       "    </tr>\n",
       "    <tr>\n",
       "      <th>std</th>\n",
       "      <td>7326.233093</td>\n",
       "      <td>10.449890</td>\n",
       "      <td>3.702512</td>\n",
       "      <td>207.149088</td>\n",
       "      <td>3.460486</td>\n",
       "      <td>6.396705e+04</td>\n",
       "      <td>6.636540</td>\n",
       "      <td>0.493060</td>\n",
       "      <td>1.064434</td>\n",
       "      <td>4.374975</td>\n",
       "      <td>...</td>\n",
       "      <td>7.090090</td>\n",
       "      <td>692.056592</td>\n",
       "      <td>142.972967</td>\n",
       "      <td>4521.49033</td>\n",
       "      <td>0.200560</td>\n",
       "      <td>3.368371</td>\n",
       "      <td>0.812213</td>\n",
       "      <td>3.541359</td>\n",
       "      <td>6.568232</td>\n",
       "      <td>0.346746</td>\n",
       "    </tr>\n",
       "    <tr>\n",
       "      <th>min</th>\n",
       "      <td>500.000000</td>\n",
       "      <td>36.000000</td>\n",
       "      <td>5.420000</td>\n",
       "      <td>16.080000</td>\n",
       "      <td>0.500000</td>\n",
       "      <td>4.000000e+03</td>\n",
       "      <td>0.000000</td>\n",
       "      <td>0.000000</td>\n",
       "      <td>0.000000</td>\n",
       "      <td>2.000000</td>\n",
       "      <td>...</td>\n",
       "      <td>0.000000</td>\n",
       "      <td>0.000000</td>\n",
       "      <td>0.000000</td>\n",
       "      <td>0.01000</td>\n",
       "      <td>0.000000</td>\n",
       "      <td>1.000000</td>\n",
       "      <td>2007.000000</td>\n",
       "      <td>1.000000</td>\n",
       "      <td>1946.000000</td>\n",
       "      <td>0.000000</td>\n",
       "    </tr>\n",
       "    <tr>\n",
       "      <th>25%</th>\n",
       "      <td>5500.000000</td>\n",
       "      <td>36.000000</td>\n",
       "      <td>8.940000</td>\n",
       "      <td>167.840000</td>\n",
       "      <td>2.000000</td>\n",
       "      <td>4.150000e+04</td>\n",
       "      <td>8.320000</td>\n",
       "      <td>0.000000</td>\n",
       "      <td>0.000000</td>\n",
       "      <td>6.000000</td>\n",
       "      <td>...</td>\n",
       "      <td>0.000000</td>\n",
       "      <td>0.000000</td>\n",
       "      <td>0.000000</td>\n",
       "      <td>224.78500</td>\n",
       "      <td>0.000000</td>\n",
       "      <td>4.000000</td>\n",
       "      <td>2010.000000</td>\n",
       "      <td>4.000000</td>\n",
       "      <td>1994.000000</td>\n",
       "      <td>0.000000</td>\n",
       "    </tr>\n",
       "    <tr>\n",
       "      <th>50%</th>\n",
       "      <td>10000.000000</td>\n",
       "      <td>36.000000</td>\n",
       "      <td>11.830000</td>\n",
       "      <td>280.620000</td>\n",
       "      <td>4.000000</td>\n",
       "      <td>6.000000e+04</td>\n",
       "      <td>13.500000</td>\n",
       "      <td>0.000000</td>\n",
       "      <td>1.000000</td>\n",
       "      <td>9.000000</td>\n",
       "      <td>...</td>\n",
       "      <td>0.000000</td>\n",
       "      <td>0.000000</td>\n",
       "      <td>0.000000</td>\n",
       "      <td>602.58000</td>\n",
       "      <td>0.000000</td>\n",
       "      <td>7.000000</td>\n",
       "      <td>2011.000000</td>\n",
       "      <td>7.000000</td>\n",
       "      <td>1998.000000</td>\n",
       "      <td>0.000000</td>\n",
       "    </tr>\n",
       "    <tr>\n",
       "      <th>75%</th>\n",
       "      <td>15000.000000</td>\n",
       "      <td>60.000000</td>\n",
       "      <td>14.460000</td>\n",
       "      <td>426.640000</td>\n",
       "      <td>9.000000</td>\n",
       "      <td>8.250000e+04</td>\n",
       "      <td>18.640000</td>\n",
       "      <td>0.000000</td>\n",
       "      <td>1.000000</td>\n",
       "      <td>12.000000</td>\n",
       "      <td>...</td>\n",
       "      <td>0.000000</td>\n",
       "      <td>0.000000</td>\n",
       "      <td>0.000000</td>\n",
       "      <td>3604.44500</td>\n",
       "      <td>0.000000</td>\n",
       "      <td>10.000000</td>\n",
       "      <td>2011.000000</td>\n",
       "      <td>10.000000</td>\n",
       "      <td>2001.000000</td>\n",
       "      <td>0.000000</td>\n",
       "    </tr>\n",
       "    <tr>\n",
       "      <th>max</th>\n",
       "      <td>35000.000000</td>\n",
       "      <td>60.000000</td>\n",
       "      <td>24.400000</td>\n",
       "      <td>1305.190000</td>\n",
       "      <td>10.000000</td>\n",
       "      <td>6.000000e+06</td>\n",
       "      <td>29.990000</td>\n",
       "      <td>11.000000</td>\n",
       "      <td>8.000000</td>\n",
       "      <td>44.000000</td>\n",
       "      <td>...</td>\n",
       "      <td>180.200000</td>\n",
       "      <td>29623.350000</td>\n",
       "      <td>7002.190000</td>\n",
       "      <td>36115.20000</td>\n",
       "      <td>2.000000</td>\n",
       "      <td>12.000000</td>\n",
       "      <td>2011.000000</td>\n",
       "      <td>12.000000</td>\n",
       "      <td>2008.000000</td>\n",
       "      <td>1.000000</td>\n",
       "    </tr>\n",
       "  </tbody>\n",
       "</table>\n",
       "<p>8 rows × 30 columns</p>\n",
       "</div>"
      ],
      "text/plain": [
       "          loan_amnt          term      int_rate   installment    emp_length  \\\n",
       "count  35367.000000  35367.000000  35367.000000  35367.000000  35367.000000   \n",
       "mean   11133.071790     42.100602     11.983468    324.043982      5.039783   \n",
       "std     7326.233093     10.449890      3.702512    207.149088      3.460486   \n",
       "min      500.000000     36.000000      5.420000     16.080000      0.500000   \n",
       "25%     5500.000000     36.000000      8.940000    167.840000      2.000000   \n",
       "50%    10000.000000     36.000000     11.830000    280.620000      4.000000   \n",
       "75%    15000.000000     60.000000     14.460000    426.640000      9.000000   \n",
       "max    35000.000000     60.000000     24.400000   1305.190000     10.000000   \n",
       "\n",
       "         annual_inc           dti   delinq_2yrs  inq_last_6mths      open_acc  \\\n",
       "count  3.536700e+04  35367.000000  35367.000000    35367.000000  35367.000000   \n",
       "mean   6.909599e+04     13.403961      0.146323        0.866995      9.332004   \n",
       "std    6.396705e+04      6.636540      0.493060        1.064434      4.374975   \n",
       "min    4.000000e+03      0.000000      0.000000        0.000000      2.000000   \n",
       "25%    4.150000e+04      8.320000      0.000000        0.000000      6.000000   \n",
       "50%    6.000000e+04     13.500000      0.000000        1.000000      9.000000   \n",
       "75%    8.250000e+04     18.640000      0.000000        1.000000     12.000000   \n",
       "max    6.000000e+06     29.990000     11.000000        8.000000     44.000000   \n",
       "\n",
       "       ...  total_rec_late_fee    recoveries  collection_recovery_fee  \\\n",
       "count  ...        35367.000000  35367.000000             35367.000000   \n",
       "mean   ...            1.306105     95.654256                12.029025   \n",
       "std    ...            7.090090    692.056592               142.972967   \n",
       "min    ...            0.000000      0.000000                 0.000000   \n",
       "25%    ...            0.000000      0.000000                 0.000000   \n",
       "50%    ...            0.000000      0.000000                 0.000000   \n",
       "75%    ...            0.000000      0.000000                 0.000000   \n",
       "max    ...          180.200000  29623.350000              7002.190000   \n",
       "\n",
       "       last_pymnt_amnt  pub_rec_bankruptcies  issue_d_month  issue_d_year  \\\n",
       "count      35367.00000          35367.000000   35367.000000  35367.000000   \n",
       "mean        2813.59290              0.041677       7.153194   2010.354653   \n",
       "std         4521.49033              0.200560       3.368371      0.812213   \n",
       "min            0.01000              0.000000       1.000000   2007.000000   \n",
       "25%          224.78500              0.000000       4.000000   2010.000000   \n",
       "50%          602.58000              0.000000       7.000000   2011.000000   \n",
       "75%         3604.44500              0.000000      10.000000   2011.000000   \n",
       "max        36115.20000              2.000000      12.000000   2011.000000   \n",
       "\n",
       "       earliest_cr_line_month  earliest_cr_line_year  loan_status_bin  \n",
       "count            35367.000000           35367.000000     35367.000000  \n",
       "mean                 6.899511            1996.815987         0.139763  \n",
       "std                  3.541359               6.568232         0.346746  \n",
       "min                  1.000000            1946.000000         0.000000  \n",
       "25%                  4.000000            1994.000000         0.000000  \n",
       "50%                  7.000000            1998.000000         0.000000  \n",
       "75%                 10.000000            2001.000000         0.000000  \n",
       "max                 12.000000            2008.000000         1.000000  \n",
       "\n",
       "[8 rows x 30 columns]"
      ]
     },
     "execution_count": 69,
     "metadata": {},
     "output_type": "execute_result"
    }
   ],
   "source": [
    "master_df.describe()"
   ]
  },
  {
   "cell_type": "code",
   "execution_count": 70,
   "metadata": {},
   "outputs": [
    {
     "data": {
      "text/plain": [
       "(35367, 44)"
      ]
     },
     "execution_count": 70,
     "metadata": {},
     "output_type": "execute_result"
    }
   ],
   "source": [
    "master_df.shape"
   ]
  },
  {
   "cell_type": "code",
   "execution_count": 71,
   "metadata": {},
   "outputs": [
    {
     "name": "stdout",
     "output_type": "stream",
     "text": [
      "['loan_amnt', 'term', 'int_rate', 'installment', 'grade', 'sub_grade', 'emp_title', 'emp_length', 'home_ownership', 'annual_inc', 'verification_status', 'issue_d', 'loan_status', 'purpose', 'title', 'addr_state', 'dti', 'delinq_2yrs', 'earliest_cr_line', 'inq_last_6mths', 'open_acc', 'pub_rec', 'revol_bal', 'revol_util', 'total_acc', 'out_prncp', 'out_prncp_inv', 'total_pymnt', 'total_pymnt_inv', 'total_rec_prncp', 'total_rec_int', 'total_rec_late_fee', 'recoveries', 'collection_recovery_fee', 'last_pymnt_d', 'last_pymnt_amnt', 'last_credit_pull_d', 'pub_rec_bankruptcies', 'issue_d_month', 'issue_d_year', 'earliest_cr_line_month', 'earliest_cr_line_year', 'int_rate_bin', 'loan_status_bin']\n"
     ]
    }
   ],
   "source": [
    "print(list(master_df.columns))"
   ]
  },
  {
   "cell_type": "code",
   "execution_count": 72,
   "metadata": {},
   "outputs": [
    {
     "data": {
      "text/plain": [
       "Non-Default    30424\n",
       "Default         4943\n",
       "Name: default_status, dtype: int64"
      ]
     },
     "execution_count": 72,
     "metadata": {},
     "output_type": "execute_result"
    }
   ],
   "source": [
    "# Necessaty to create the categorical variable to names defineda as Non-Default and Default\n",
    "master_df['default_status'] = master_df['loan_status_bin'].apply(lambda x: 'Non-Default' if x == 0 else 'Default')\n",
    "master_df['default_status'].value_counts()"
   ]
  },
  {
   "cell_type": "markdown",
   "metadata": {},
   "source": [
    "### Univariate Analysis and Bivariate analysis for the Loan Risk Analysis"
   ]
  },
  {
   "cell_type": "markdown",
   "metadata": {},
   "source": [
    "Function for barplot for different columns using seaborn"
   ]
  },
  {
   "cell_type": "code",
   "execution_count": 115,
   "metadata": {},
   "outputs": [
    {
     "data": {
      "text/plain": [
       "<matplotlib.axes._subplots.AxesSubplot at 0x28819b10f10>"
      ]
     },
     "execution_count": 115,
     "metadata": {},
     "output_type": "execute_result"
    },
    {
     "data": {
      "image/png": "[encoded data removed]",
      "text/plain": [
       "<Figure size 432x288 with 1 Axes>"
      ]
     },
     "metadata": {
      "needs_background": "light"
     },
     "output_type": "display_data"
    }
   ],
   "source": [
    "sns.boxplot(master_df['loan_amnt'])"
   ]
  },
  {
   "cell_type": "markdown",
   "metadata": {},
   "source": [
    " Clearly 10000 is median of loan amout"
   ]
  },
  {
   "cell_type": "code",
   "execution_count": 73,
   "metadata": {},
   "outputs": [
    {
     "name": "stdout",
     "output_type": "stream",
     "text": [
      "<class 'pandas.core.frame.DataFrame'>\n",
      "RangeIndex: 35367 entries, 0 to 35366\n",
      "Data columns (total 1 columns):\n",
      " #   Column           Non-Null Count  Dtype\n",
      "---  ------           --------------  -----\n",
      " 0   loan_status_bin  35367 non-null  int64\n",
      "dtypes: int64(1)\n",
      "memory usage: 276.4 KB\n"
     ]
    }
   ],
   "source": [
    "master_df[['loan_status_bin']].info()"
   ]
  },
  {
   "cell_type": "code",
   "execution_count": 74,
   "metadata": {},
   "outputs": [
    {
     "data": {
      "text/plain": [
       "loan_status_bin    0.139763\n",
       "dtype: float64"
      ]
     },
     "execution_count": 74,
     "metadata": {},
     "output_type": "execute_result"
    }
   ],
   "source": [
    "master_df[['loan_status_bin']].mean()"
   ]
  },
  {
   "cell_type": "markdown",
   "metadata": {},
   "source": [
    "Clearly from the mean of loan status bin categorical variable we can see that overall __13.9% members are dafaults__. So Visualize the data clearly in form of graphs of categorical variables.\n",
    "- Grade\n",
    "- subgrade\n",
    "- term\n",
    "- Home owenership\n",
    "- interest rate bin\n",
    "- purpose\n",
    "- Verification status\n",
    "- Year \n",
    "- month\n",
    "- addr state"
   ]
  },
  {
   "cell_type": "code",
   "execution_count": 119,
   "metadata": {},
   "outputs": [],
   "source": [
    "%matplotlib inline\n",
    "def bar_plot(col):\n",
    "    sns.barplot(x=col,y='loan_status_bin',data=master_df)\n",
    "    plt.show()"
   ]
  },
  {
   "cell_type": "code",
   "execution_count": 76,
   "metadata": {},
   "outputs": [
    {
     "data": {
      "image/png": "[encoded data removed]",
      "text/plain": [
       "<Figure size 432x288 with 1 Axes>"
      ]
     },
     "metadata": {
      "needs_background": "light"
     },
     "output_type": "display_data"
    }
   ],
   "source": [
    "# plot for default status  vs grade\n",
    "bar_plot(col='grade')"
   ]
  },
  {
   "cell_type": "markdown",
   "metadata": {},
   "source": [
    " As the grade move from __A to G default rate is increased__"
   ]
  },
  {
   "cell_type": "code",
   "execution_count": 77,
   "metadata": {},
   "outputs": [
    {
     "data": {
      "image/png": "[encoded data removed]",
      "text/plain": [
       "<Figure size 432x288 with 1 Axes>"
      ]
     },
     "metadata": {
      "needs_background": "light"
     },
     "output_type": "display_data"
    }
   ],
   "source": [
    "#plot for loan_status_bin and term\n",
    "bar_plot(col='term')"
   ]
  },
  {
   "cell_type": "markdown",
   "metadata": {},
   "source": [
    "Default rate is more in 60 months term than the 36 months term."
   ]
  },
  {
   "cell_type": "code",
   "execution_count": 78,
   "metadata": {},
   "outputs": [
    {
     "data": {
      "image/png": "[encoded data removed]",
      "text/plain": [
       "<Figure size 1080x432 with 1 Axes>"
      ]
     },
     "metadata": {
      "needs_background": "light"
     },
     "output_type": "display_data"
    }
   ],
   "source": [
    "# plot for subgrade and loan_status_bin \n",
    "plt.figure(figsize=(15,6))\n",
    "bar_plot(col='sub_grade')"
   ]
  },
  {
   "cell_type": "code",
   "execution_count": 79,
   "metadata": {},
   "outputs": [
    {
     "data": {
      "image/png": "[encoded data removed]",
      "text/plain": [
       "<Figure size 432x288 with 1 Axes>"
      ]
     },
     "metadata": {
      "needs_background": "light"
     },
     "output_type": "display_data"
    }
   ],
   "source": [
    "#plot between loan_status_bin to homeownership\n",
    "bar_plot(col='home_ownership')"
   ]
  },
  {
   "cell_type": "markdown",
   "metadata": {},
   "source": [
    "As the Owner ship having the __other__ is more likely to be defaulted"
   ]
  },
  {
   "cell_type": "code",
   "execution_count": 80,
   "metadata": {},
   "outputs": [
    {
     "data": {
      "image/png": "[encoded data removed]",
      "text/plain": [
       "<Figure size 432x288 with 1 Axes>"
      ]
     },
     "metadata": {
      "needs_background": "light"
     },
     "output_type": "display_data"
    }
   ],
   "source": [
    "# plot for interest_rate_bin to loan_status_bin\n",
    "bar_plot(col='int_rate_bin')"
   ]
  },
  {
   "cell_type": "markdown",
   "metadata": {},
   "source": [
    "Interest rate having high are more likely to be __defaulted__ because of unable to pay more interest"
   ]
  },
  {
   "cell_type": "code",
   "execution_count": 81,
   "metadata": {},
   "outputs": [
    {
     "data": {
      "image/png": "[encoded data removed]",
      "text/plain": [
       "<Figure size 432x288 with 1 Axes>"
      ]
     },
     "metadata": {
      "needs_background": "light"
     },
     "output_type": "display_data"
    }
   ],
   "source": [
    "#plot for loan_rate_bin to verification status\n",
    "bar_plot(col='verification_status')"
   ]
  },
  {
   "cell_type": "markdown",
   "metadata": {},
   "source": [
    "From the above graph we can say that __Verified are more likely get defaulted than other__"
   ]
  },
  {
   "cell_type": "code",
   "execution_count": 82,
   "metadata": {},
   "outputs": [
    {
     "data": {
      "image/png": "[encoded data removed]",
      "text/plain": [
       "<Figure size 1152x720 with 1 Axes>"
      ]
     },
     "metadata": {
      "needs_background": "light"
     },
     "output_type": "display_data"
    }
   ],
   "source": [
    "# plot for purpose and loan_status_bin\n",
    "plt.figure(figsize=(16,10))\n",
    "bar_plot(col = 'purpose')"
   ]
  },
  {
   "cell_type": "markdown",
   "metadata": {},
   "source": [
    "From the above figure we can say that __Small_businesslikely to be default__ is more than others."
   ]
  },
  {
   "cell_type": "code",
   "execution_count": 83,
   "metadata": {},
   "outputs": [
    {
     "data": {
      "image/png": "[encoded data removed]",
      "text/plain": [
       "<Figure size 432x288 with 1 Axes>"
      ]
     },
     "metadata": {
      "needs_background": "light"
     },
     "output_type": "display_data"
    }
   ],
   "source": [
    "#plot for issued Year and loan_status\n",
    "bar_plot(col='issue_d_year')"
   ]
  },
  {
   "cell_type": "code",
   "execution_count": 84,
   "metadata": {},
   "outputs": [
    {
     "data": {
      "image/png": "[encoded data removed]",
      "text/plain": [
       "<Figure size 720x432 with 1 Axes>"
      ]
     },
     "metadata": {
      "needs_background": "light"
     },
     "output_type": "display_data"
    }
   ],
   "source": [
    "# Line graph for year give much insight\n",
    "plt.figure(figsize=(10,6))\n",
    "sns.lineplot(x='issue_d_year',y='loan_status_bin',data=master_df)\n",
    "plt.show()"
   ]
  },
  {
   "cell_type": "code",
   "execution_count": 85,
   "metadata": {},
   "outputs": [
    {
     "data": {
      "image/png": "[encoded data removed]",
      "text/plain": [
       "<Figure size 432x288 with 1 Axes>"
      ]
     },
     "metadata": {
      "needs_background": "light"
     },
     "output_type": "display_data"
    }
   ],
   "source": [
    "#plot for issued month and loan_status\n",
    "bar_plot(col='issue_d_month')"
   ]
  },
  {
   "cell_type": "markdown",
   "metadata": {},
   "source": [
    "For Month __December__ who is taking loan is __likely default is more than any other month__."
   ]
  },
  {
   "cell_type": "markdown",
   "metadata": {},
   "source": [
    "__Loan amount,DTI,Employee_length,Annual_Income__ also deriving factors for Risk analysis."
   ]
  },
  {
   "cell_type": "code",
   "execution_count": 86,
   "metadata": {},
   "outputs": [
    {
     "data": {
      "text/plain": [
       "[array([ 2500, 10000,  5000,  7000,  3000,  5375,  6500, 12000,  9000,\n",
       "         1000,  3600,  6000,  9200, 20250, 21000, 15000,  4000,  8500,\n",
       "        31825, 12400, 10800,  9600,  4400, 14000, 11000, 25600, 16000,\n",
       "         7100, 13000, 17675,  8000,  3500, 12500, 16425,  8200, 20975,\n",
       "         6400, 14400,  7250, 18000, 35000, 11800,  4500, 10500, 20000,\n",
       "        17500,  6200,  7200,  9500, 18825, 24000,  2100, 26800, 25000,\n",
       "        19750, 13650, 28000, 10625,  8850,  6375, 11100,  4200,  8875,\n",
       "        13500, 21600,  8450, 13475,  5600, 22000,  7325,  7750, 13350,\n",
       "        22475,  8400, 13250,  7350, 11500, 29500,  2000, 11625, 15075,\n",
       "         5300,  8650,  7400, 24250, 26000,  1500, 19600,  4225, 16500,\n",
       "        15600, 14125, 13200,  5500,  1400,  3200, 11875, 23200,  4800,\n",
       "         7300,  6600,  4475,  6300,  8250,  9875, 21500,  7800,  9750,\n",
       "        15550,  7500,  5800,  8050,  5400,  4125,  9800, 15700,  9900,\n",
       "         6250, 30000, 10200, 23000, 21250, 33425,  8125, 18800, 19200,\n",
       "        12875,  2625, 11300,  4375,  4100, 10400, 18225, 18500, 16800,\n",
       "         2200, 14050, 10525, 19775, 14500, 11700,  4150, 12375, 22250,\n",
       "        11200, 22500, 15900,  3150,  2400,  7700, 24500,  1800, 22200,\n",
       "        21400,  9400, 17000, 22400,  5825,  7650, 20675, 27050, 20500,\n",
       "        12800, 27575, 29000,  9575, 14575,  7125, 10375,  3050, 27000,\n",
       "        28625, 20050, 24925, 13600, 26400,  7150, 32000,  2250,  3250,\n",
       "        22750,  1200,  5900, 12600, 17475, 17250, 19075, 17200, 13225,\n",
       "        11775, 16400, 10075,  9350,  8075, 15625, 20125,  8300,  2425,\n",
       "         6950,  5350,  5875,  9450, 19000, 20400, 21650, 20300,  2300,\n",
       "         7600, 24575,  5850,  4750,  5275,  9175, 34475, 10050, 19400,\n",
       "        18200, 34000, 19500,  5200, 11900, 29100, 25850,  3300, 12200,\n",
       "        22575,  7175, 16750,  6625,  6900, 18650, 22800, 27300, 12250,\n",
       "         4350,  2700,  6025,  3825, 14150,  2800, 18975,  8575,  2575,\n",
       "         5450,  3800, 14650, 11250, 31000,  8475,  9250,  3625, 31300,\n",
       "         4250, 12650, 27600, 13150,  4300, 10275, 23600,  7875, 12300,\n",
       "        14550,  9925, 15850,  1325,  6325, 29700, 25975, 15200, 28100,\n",
       "         6800, 11325, 13975, 13800,  3100,  8800, 25450,  3575,  6075,\n",
       "        23700, 21200,  6475, 17375, 17625, 16100, 16675, 22950,  1950,\n",
       "         4650, 10250,  6100,  8325,  4850,  9425,  5250, 25475, 14850,\n",
       "        33000,  5150, 21625,  3775, 21575, 16250,  8375, 18725, 11125,\n",
       "         3525,  9300, 19125, 19800, 15500,  5575,  1450, 10150, 20450,\n",
       "        23500, 16600,  1300,  6925, 14675, 11550, 17400,  1100,  3400,\n",
       "        12775,  5050, 12100,  6975,  1600, 26300, 23325, 15800,  5100,\n",
       "        10175, 18400, 30750, 33600,  5650, 16450, 17050, 12700, 18950,\n",
       "        33950, 10125, 16775, 20200, 10600,  3725, 19425, 25900,  3125,\n",
       "        23800,  4025,  2600,  8900, 10900, 17600, 14825,  7925, 14950,\n",
       "        14750,  8600,  1925,  4900, 15575,  3175, 14800,  5750, 14600,\n",
       "        25200,  5700,  6550, 22900, 14300,  6850, 26375, 11425,  5325,\n",
       "        16950, 29850, 10675,  6650, 10775, 17325, 27250,  3700, 20800,\n",
       "        13575, 29275,  4725, 15750, 15875, 10925,  4950,  2850, 32875,\n",
       "        21100, 18250,  6700, 11050,  3650, 20375,  4600,  7475, 22125,\n",
       "        18550, 27525, 25500, 17750,  8675,  7450, 24625, 17900, 12075,\n",
       "         6725,  5225, 14075, 17175,  9475,  9975, 20900, 12150, 15350,\n",
       "         4925,  4550, 18750, 15125, 12475,  2750,  4625, 23525, 12350,\n",
       "         9525,  8975, 11975, 12850, 19850, 21850,  4425, 32250,  2550,\n",
       "        11400, 21725, 23100, 13700,  9950, 21750, 13750, 12025, 23400,\n",
       "        19700,  3900, 14725, 28200, 17800,  5175, 29550, 23850, 31500,\n",
       "         9100, 27400, 23675, 16200, 11650, 18875, 11600,  3950,  2050,\n",
       "        19950, 12750, 10700,  2875,  1700, 10300, 17450,  3450,  1825,\n",
       "        13100,  8700,  6450,  3675,  8150, 23975, 14100,  8625, 31800,\n",
       "        34675, 11025,  7850, 14175,  9150, 19925, 14275, 25400, 17825,\n",
       "        16875, 21800, 14475, 10225, 27500, 10650, 12725, 10950, 31200,\n",
       "         1875, 16300, 12550, 11725, 22600, 26500,  6225, 15250, 23275,\n",
       "        13275, 34525,  6350,  6775, 19450,  2900,  2450, 21300,  4700,\n",
       "         7425, 19575, 31150, 30100, 32350,  1900, 29300, 15950, 13300,\n",
       "         2975, 28250,  8100, 28600,  6425,  9375,  4050, 23450, 32400,\n",
       "        21350,  9050,  2675,  5025,  7075, 24600,  5950, 12625, 29800,\n",
       "         1750, 10825, 12900,  6125, 26850, 28800,  6825, 10975, 20950,\n",
       "         3850, 31325, 11750,  3350, 15825,  7525,  7950, 13400,  3375,\n",
       "         6750,  1850, 17850, 17875,  7550, 30800,  3750, 10025, 14350,\n",
       "        24800,  7775, 18900,  8025, 13775,  3075,  1250, 29900, 11525,\n",
       "         5550,  5975, 32500, 22100, 25300, 14700,  3325,  5075, 14975,\n",
       "         3975,  5625, 27175, 11575, 16325, 24200, 15050,  5425, 17700,\n",
       "        12450, 19725, 19550, 22875, 23075, 15450, 10750,  4325,  3275,\n",
       "         8175, 20700,  1775,  4775,  8225,  4575,  5125, 15775,  2125,\n",
       "        19475, 14200, 21225, 12425,  7900, 14525,  7575,  2650,  4450,\n",
       "         8275, 27200, 30600,  6275,  4075,  1625,  1275, 13075, 23750,\n",
       "        24650, 14250,  8825,  8350, 19150,  8725, 16050, 26250, 29175,\n",
       "        16075,  6150,  8750, 11075, 17950, 10875, 12175, 16350,  2275,\n",
       "         3925, 11375, 18325,  9650,  2725, 10425,  6575,  2075, 13175,\n",
       "         9550, 12675, 15425, 17725, 18300, 18600,  5525, 10550, 22325,\n",
       "        15175,  3025, 12225, 13675, 28750, 15650, 11450, 23350,  1525,\n",
       "        31725, 13625, 32775, 20600, 15975,  9775, 13425,  1050,  2950,\n",
       "        12925,  2350, 29375,  9075,  1350, 30225, 21700, 16550, 15400,\n",
       "         4975, 11275,  7725,  1550,  9225,  2325, 13725,  8775, 19250,\n",
       "        10575, 14900, 34800, 17300,  9700,  2150, 12325, 10100, 10350,\n",
       "         2825, 17975,  1650, 15275,  2925,  2525, 28500,  2225,  9325,\n",
       "         5725,  4875,  2475,  3425, 16700,  2775, 13050,  7975, 34200,\n",
       "         5925, 26025, 16225,  9275, 11350, 21450, 10850,  7225, 13325,\n",
       "         1425,  5475, 19300,  7050, 24375,  5775, 24175, 12050, 33500,\n",
       "        13850, 32525, 17075,  1675, 18275,  9125, 33250, 16525, 11850,\n",
       "        22300, 13125,  7675,  8525, 15300, 31050,  7275,  4525,  7025,\n",
       "        14625, 13375, 21125,  4675, 25375, 24975, 12825, 18150, 18050,\n",
       "         9850, 14875, 17425, 16725, 13550,  9625, 15150, 19875,  1475,\n",
       "        22650, 17150,  8550,  6875,  7375,  5675,  1375,  4275,  7625,\n",
       "         6525,  3225,  6675,  1075,  2375, 15675, 17275, 11475, 12975,\n",
       "        15325,  1125, 17100,  8950, 11675, 12275,  3475, 21425,  3550,\n",
       "        18125, 23050, 11175, 10450, 21825, 10475, 12950, 20150, 24750,\n",
       "        13900,  4175, 17925, 24150, 19975, 19900, 13950, 12125, 11225,\n",
       "        23475, 19650, 13450, 10725,  1150, 20475, 17525,   500,   725,\n",
       "        23575], dtype=int64)]"
      ]
     },
     "execution_count": 86,
     "metadata": {},
     "output_type": "execute_result"
    }
   ],
   "source": [
    "[master_df['loan_amnt'].unique()]"
   ]
  },
  {
   "cell_type": "markdown",
   "metadata": {},
   "source": [
    "Clearly from unique values are start from __500 to 30000+__. so we can make loan amount as bins by defining funtion loan_bin\n"
   ]
  },
  {
   "cell_type": "code",
   "execution_count": 87,
   "metadata": {},
   "outputs": [
    {
     "data": {
      "text/plain": [
       "Medium       19068\n",
       "High          7147\n",
       "Low           6611\n",
       "Very High     2541\n",
       "Name: loan_amnt_bin, dtype: int64"
      ]
     },
     "execution_count": 87,
     "metadata": {},
     "output_type": "execute_result"
    }
   ],
   "source": [
    "def type_loan_amt(x):\n",
    "    if x < 5000:\n",
    "        return 'Low'\n",
    "    elif x >=5000 and x < 15000:\n",
    "        return 'Medium'\n",
    "    elif x >= 15000 and x < 25000:\n",
    "        return 'High'\n",
    "    else:\n",
    "        return 'Very High'\n",
    "master_df['loan_amnt_bin'] = master_df['loan_amnt'].apply(type_loan_amt)\n",
    "master_df['loan_amnt_bin'].value_counts()"
   ]
  },
  {
   "cell_type": "code",
   "execution_count": 88,
   "metadata": {},
   "outputs": [
    {
     "data": {
      "image/png": "[encoded data removed]",
      "text/plain": [
       "<Figure size 432x288 with 1 Axes>"
      ]
     },
     "metadata": {
      "needs_background": "light"
     },
     "output_type": "display_data"
    }
   ],
   "source": [
    "# plot for Loan_amount and loan_status_bin to find which loan category are more default\n",
    "bar_plot(col='loan_amnt_bin')"
   ]
  },
  {
   "cell_type": "markdown",
   "metadata": {},
   "source": [
    "__clear from graph the those who take very high loan are most of defaults than others__"
   ]
  },
  {
   "cell_type": "code",
   "execution_count": 89,
   "metadata": {},
   "outputs": [
    {
     "data": {
      "text/plain": [
       "medium       16625\n",
       "low          13721\n",
       "high          3709\n",
       "very high     1312\n",
       "Name: annual_inc_bin, dtype: int64"
      ]
     },
     "execution_count": 89,
     "metadata": {},
     "output_type": "execute_result"
    }
   ],
   "source": [
    "# plot for the annual income vs loan_status_bin\n",
    "def annual_inc_bin(n):\n",
    "    if n <= 50000:\n",
    "        return 'low'\n",
    "    elif n > 50000 and n <=100000:\n",
    "        return 'medium'\n",
    "    elif n > 100000 and n <=150000:\n",
    "        return 'high'\n",
    "    else:\n",
    "        return 'very high'\n",
    "master_df['annual_inc_bin'] = master_df['annual_inc'].apply(annual_inc_bin)\n",
    "master_df['annual_inc_bin'].value_counts()"
   ]
  },
  {
   "cell_type": "code",
   "execution_count": 90,
   "metadata": {},
   "outputs": [
    {
     "data": {
      "image/png": "[encoded data removed]",
      "text/plain": [
       "<Figure size 432x288 with 1 Axes>"
      ]
     },
     "metadata": {
      "needs_background": "light"
     },
     "output_type": "display_data"
    }
   ],
   "source": [
    "bar_plot(col ='annual_inc_bin')"
   ]
  },
  {
   "cell_type": "markdown",
   "metadata": {},
   "source": [
    "From Visualization we can say that __low annual income are more likely default than other__."
   ]
  },
  {
   "cell_type": "code",
   "execution_count": 91,
   "metadata": {},
   "outputs": [
    {
     "data": {
      "text/plain": [
       "0.00     140\n",
       "12.00     39\n",
       "18.00     38\n",
       "19.20     37\n",
       "13.20     36\n",
       "        ... \n",
       "29.02      1\n",
       "28.54      1\n",
       "28.50      1\n",
       "25.77      1\n",
       "26.78      1\n",
       "Name: dti, Length: 2842, dtype: int64"
      ]
     },
     "execution_count": 91,
     "metadata": {},
     "output_type": "execute_result"
    }
   ],
   "source": [
    "master_df['dti'].value_counts()"
   ]
  },
  {
   "cell_type": "code",
   "execution_count": 92,
   "metadata": {},
   "outputs": [
    {
     "data": {
      "text/plain": [
       "Medium    17071\n",
       "Low       11557\n",
       "High       6739\n",
       "Name: dti_bin, dtype: int64"
      ]
     },
     "execution_count": 92,
     "metadata": {},
     "output_type": "execute_result"
    }
   ],
   "source": [
    "# debt to income ratio\n",
    "def dti_fn(x):\n",
    "    if x <= 10:\n",
    "        return 'Low'\n",
    "    elif x > 10 and x <=20:\n",
    "        return 'Medium'\n",
    "    else:\n",
    "        return 'High'\n",
    "master_df['dti_bin'] = master_df['dti'].apply(dti_fn)\n",
    "master_df['dti_bin'].value_counts()"
   ]
  },
  {
   "cell_type": "code",
   "execution_count": 93,
   "metadata": {},
   "outputs": [
    {
     "data": {
      "image/png": "[encoded data removed]",
      "text/plain": [
       "<Figure size 432x288 with 1 Axes>"
      ]
     },
     "metadata": {
      "needs_background": "light"
     },
     "output_type": "display_data"
    }
   ],
   "source": [
    "bar_plot(col='dti_bin')"
   ]
  },
  {
   "cell_type": "markdown",
   "metadata": {},
   "source": [
    "Clearly from graph we can conclude that as the __dti increased the defaul also increased__."
   ]
  },
  {
   "cell_type": "code",
   "execution_count": 94,
   "metadata": {},
   "outputs": [
    {
     "data": {
      "text/plain": [
       "senior     17865\n",
       "expert     10565\n",
       "fresher     6937\n",
       "Name: emp_len_bin, dtype: int64"
      ]
     },
     "execution_count": 94,
     "metadata": {},
     "output_type": "execute_result"
    }
   ],
   "source": [
    "#binning of emp_length variable\n",
    "# binning the variable\n",
    "def emp_length_bin(x):\n",
    "    if x <= 1:\n",
    "        return 'fresher'\n",
    "    elif x > 1 and x <=7:\n",
    "        return 'senior'\n",
    "    else:\n",
    "        return 'expert'\n",
    "master_df['emp_len_bin']= master_df['emp_length'].apply(emp_length_bin)\n",
    "master_df['emp_len_bin'].value_counts()"
   ]
  },
  {
   "cell_type": "code",
   "execution_count": 95,
   "metadata": {},
   "outputs": [
    {
     "data": {
      "image/png": "[encoded data removed]",
      "text/plain": [
       "<Figure size 432x288 with 1 Axes>"
      ]
     },
     "metadata": {
      "needs_background": "light"
     },
     "output_type": "display_data"
    }
   ],
   "source": [
    "#Emp_len_bin Vs loan_status_bin\n",
    "bar_plot('emp_len_bin')"
   ]
  },
  {
   "cell_type": "markdown",
   "metadata": {},
   "source": [
    "From visutalization shows that __employee who is having the more number of years experience will more likely get Default__"
   ]
  },
  {
   "cell_type": "code",
   "execution_count": 96,
   "metadata": {},
   "outputs": [
    {
     "data": {
      "text/plain": [
       "medium       13655\n",
       "low          11762\n",
       "high          6114\n",
       "very high     3836\n",
       "Name: installment_bin, dtype: int64"
      ]
     },
     "execution_count": 96,
     "metadata": {},
     "output_type": "execute_result"
    }
   ],
   "source": [
    "# installement will also decide some time the factor needto convert to bins and analyze that one.\n",
    "def installment_bin(x):\n",
    "    if x <= 200:\n",
    "        return 'low'\n",
    "    elif x > 200 and x <=400:\n",
    "        return 'medium'\n",
    "    elif x > 400 and x <=600:\n",
    "        return 'high'\n",
    "    else:\n",
    "        return 'very high'\n",
    "master_df['installment_bin'] = master_df['installment'].apply(installment_bin)\n",
    "master_df['installment_bin'].value_counts()"
   ]
  },
  {
   "cell_type": "code",
   "execution_count": 97,
   "metadata": {},
   "outputs": [
    {
     "data": {
      "image/png": "[encoded data removed]",
      "text/plain": [
       "<Figure size 432x288 with 1 Axes>"
      ]
     },
     "metadata": {
      "needs_background": "light"
     },
     "output_type": "display_data"
    }
   ],
   "source": [
    "bar_plot(col='installment_bin')"
   ]
  },
  {
   "cell_type": "code",
   "execution_count": 99,
   "metadata": {},
   "outputs": [
    {
     "data": {
      "image/png": "[encoded data removed]",
      "text/plain": [
       "<Figure size 1152x360 with 1 Axes>"
      ]
     },
     "metadata": {
      "needs_background": "light"
     },
     "output_type": "display_data"
    }
   ],
   "source": [
    "# addr_state vs loan_state_bin\n",
    "plt.figure(figsize=(16,5))\n",
    "bar_plot(col='addr_state')"
   ]
  },
  {
   "cell_type": "markdown",
   "metadata": {},
   "source": [
    "# Bivariate Analysis for Risk Analysis"
   ]
  },
  {
   "cell_type": "code",
   "execution_count": 100,
   "metadata": {},
   "outputs": [],
   "source": [
    "def bivar_plot(x, hue):\n",
    "    plt.figure(figsize=(16,5))\n",
    "    sns.barplot(x=x,y='loan_status_bin',hue=hue,data=master_df)\n",
    "    plt.show()"
   ]
  },
  {
   "cell_type": "code",
   "execution_count": 101,
   "metadata": {},
   "outputs": [
    {
     "data": {
      "image/png": "[encoded data removed]",
      "text/plain": [
       "<Figure size 1152x360 with 1 Axes>"
      ]
     },
     "metadata": {
      "needs_background": "light"
     },
     "output_type": "display_data"
    }
   ],
   "source": [
    "# Bivariate plot for term Vs Purpose\n",
    "bivar_plot('term','purpose')"
   ]
  },
  {
   "cell_type": "code",
   "execution_count": 103,
   "metadata": {},
   "outputs": [
    {
     "data": {
      "image/png": "[encoded data removed]",
      "text/plain": [
       "<Figure size 1152x360 with 1 Axes>"
      ]
     },
     "metadata": {
      "needs_background": "light"
     },
     "output_type": "display_data"
    }
   ],
   "source": [
    "#Bivariate plot grade Vs Purpose\n",
    "bivar_plot('grade','purpose')"
   ]
  },
  {
   "cell_type": "code",
   "execution_count": 104,
   "metadata": {},
   "outputs": [
    {
     "data": {
      "image/png": "[encoded data removed]",
      "text/plain": [
       "<Figure size 1152x360 with 1 Axes>"
      ]
     },
     "metadata": {
      "needs_background": "light"
     },
     "output_type": "display_data"
    }
   ],
   "source": [
    "# Bivariate plot for homeownership Vs loan_status_bin\n",
    "bivar_plot('home_ownership','purpose')"
   ]
  },
  {
   "cell_type": "code",
   "execution_count": 105,
   "metadata": {},
   "outputs": [
    {
     "data": {
      "image/png": "[encoded data removed]",
      "text/plain": [
       "<Figure size 1152x360 with 1 Axes>"
      ]
     },
     "metadata": {
      "needs_background": "light"
     },
     "output_type": "display_data"
    }
   ],
   "source": [
    "# Employee length bin vs loan_bin\n",
    "bivar_plot('emp_len_bin','purpose')"
   ]
  },
  {
   "cell_type": "code",
   "execution_count": 106,
   "metadata": {},
   "outputs": [
    {
     "data": {
      "image/png": "[encoded data removed]",
      "text/plain": [
       "<Figure size 1152x360 with 1 Axes>"
      ]
     },
     "metadata": {
      "needs_background": "light"
     },
     "output_type": "display_data"
    }
   ],
   "source": [
    "bivar_plot('emp_len_bin','term')"
   ]
  },
  {
   "cell_type": "code",
   "execution_count": 107,
   "metadata": {},
   "outputs": [
    {
     "data": {
      "image/png": "[encoded data removed]",
      "text/plain": [
       "<Figure size 1152x360 with 1 Axes>"
      ]
     },
     "metadata": {
      "needs_background": "light"
     },
     "output_type": "display_data"
    }
   ],
   "source": [
    "bivar_plot('dti_bin','purpose')"
   ]
  },
  {
   "cell_type": "code",
   "execution_count": 108,
   "metadata": {},
   "outputs": [
    {
     "data": {
      "image/png": "[encoded data removed]",
      "text/plain": [
       "<Figure size 1152x360 with 1 Axes>"
      ]
     },
     "metadata": {
      "needs_background": "light"
     },
     "output_type": "display_data"
    }
   ],
   "source": [
    "bivar_plot('annual_inc_bin','purpose')"
   ]
  },
  {
   "cell_type": "code",
   "execution_count": 110,
   "metadata": {},
   "outputs": [
    {
     "data": {
      "image/png": "[encoded data removed]",
      "text/plain": [
       "<Figure size 1152x360 with 1 Axes>"
      ]
     },
     "metadata": {
      "needs_background": "light"
     },
     "output_type": "display_data"
    }
   ],
   "source": [
    "# Loan amount Vs Purpose \n",
    "bivar_plot('loan_amnt_bin','purpose')"
   ]
  },
  {
   "cell_type": "code",
   "execution_count": 111,
   "metadata": {},
   "outputs": [
    {
     "data": {
      "image/png": "[encoded data removed]",
      "text/plain": [
       "<Figure size 1152x360 with 1 Axes>"
      ]
     },
     "metadata": {
      "needs_background": "light"
     },
     "output_type": "display_data"
    }
   ],
   "source": [
    "# issue_d_year vs loan_amt bivariate analysis\n",
    "bivar_plot('issue_d_year','purpose')"
   ]
  },
  {
   "cell_type": "code",
   "execution_count": 112,
   "metadata": {},
   "outputs": [
    {
     "data": {
      "image/png": "[encoded data removed]",
      "text/plain": [
       "<Figure size 1152x360 with 1 Axes>"
      ]
     },
     "metadata": {
      "needs_background": "light"
     },
     "output_type": "display_data"
    }
   ],
   "source": [
    "#interest rate bin Vs loan_amt\n",
    "bivar_plot('int_rate_bin','purpose')"
   ]
  },
  {
   "cell_type": "code",
   "execution_count": null,
   "metadata": {},
   "outputs": [],
   "source": []
  }
 ],
 "metadata": {
  "kernelspec": {
   "display_name": "Python 3",
   "language": "python",
   "name": "python3"
  },
  "language_info": {
   "codemirror_mode": {
    "name": "ipython",
    "version": 3
   },
   "file_extension": ".py",
   "mimetype": "text/x-python",
   "name": "python",
   "nbconvert_exporter": "python",
   "pygments_lexer": "ipython3",
   "version": "3.8.3"
  }
 },
 "nbformat": 4,
 "nbformat_minor": 4
}
