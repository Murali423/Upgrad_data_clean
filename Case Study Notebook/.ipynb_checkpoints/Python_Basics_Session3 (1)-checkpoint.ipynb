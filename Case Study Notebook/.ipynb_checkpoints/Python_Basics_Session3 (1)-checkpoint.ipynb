{
 "cells": [
  {
   "cell_type": "markdown",
   "metadata": {},
   "source": [
    "# Python Basics - Session 3"
   ]
  },
  {
   "cell_type": "markdown",
   "metadata": {},
   "source": [
    "## Conditional Statements\n",
    "\n",
    "## If-statement\n",
    "\n",
    "The <b>if</b> statement is used to check a condition: if the condition is true, we run a block of statements (called the if-block), else we process another block of statements (called the else-block). The <b>else clause is optional</b>."
   ]
  },
  {
   "cell_type": "markdown",
   "metadata": {},
   "source": [
    "### If and If-Else"
   ]
  },
  {
   "cell_type": "code",
   "execution_count": null,
   "metadata": {},
   "outputs": [],
   "source": [
    "score = int(input(\"Enter your test score : \"))\n",
    "passing = 40"
   ]
  },
  {
   "cell_type": "code",
   "execution_count": null,
   "metadata": {},
   "outputs": [],
   "source": [
    "# if statement\n",
    "if score >= passing:\n",
    "    print(\"You have passed!\")"
   ]
  },
  {
   "cell_type": "code",
   "execution_count": null,
   "metadata": {},
   "outputs": [],
   "source": [
    "##If else\n",
    "if score >= passing:\n",
    "    print(\"You have passed!\")\n",
    "else:\n",
    "    print(\"Sorry! You have failed\")"
   ]
  },
  {
   "cell_type": "markdown",
   "metadata": {},
   "source": [
    "### IF-Elif-Else"
   ]
  },
  {
   "cell_type": "code",
   "execution_count": null,
   "metadata": {},
   "outputs": [],
   "source": [
    "if score == 100:\n",
    "    print(\"Perfect\")\n",
    "elif 90 <= score<100:\n",
    "    print(\"Distinction\")\n",
    "elif 65 <= score < 90:\n",
    "    print(\"First Class\")\n",
    "elif 40 <= score<65:\n",
    "    print(\"Second Class\")\n",
    "else:\n",
    "    print(\"Failed\")"
   ]
  },
  {
   "cell_type": "markdown",
   "metadata": {},
   "source": [
    "### If condition with List"
   ]
  },
  {
   "cell_type": "code",
   "execution_count": null,
   "metadata": {},
   "outputs": [],
   "source": [
    "students = ['Rajiv', 'Apoorv', 'Rahul']\n",
    "if 'Varun' not in students:\n",
    "    print(\"absent\")\n",
    "else:\n",
    "    print(\"present\")"
   ]
  },
  {
   "cell_type": "markdown",
   "metadata": {},
   "source": [
    "### If condition with Dictionary"
   ]
  },
  {
   "cell_type": "code",
   "execution_count": null,
   "metadata": {},
   "outputs": [],
   "source": [
    "student_marks = {'Rajiv':80, 'Apoorv':85, 'Rahul':90}"
   ]
  },
  {
   "cell_type": "code",
   "execution_count": null,
   "metadata": {},
   "outputs": [],
   "source": [
    "if 'Varun' not in student_marks.keys():\n",
    "    student_marks['Varun']='NA'"
   ]
  },
  {
   "cell_type": "code",
   "execution_count": null,
   "metadata": {},
   "outputs": [],
   "source": [
    "print(student_marks)"
   ]
  },
  {
   "cell_type": "markdown",
   "metadata": {},
   "source": [
    "### If condition with Strings"
   ]
  },
  {
   "cell_type": "code",
   "execution_count": null,
   "metadata": {},
   "outputs": [],
   "source": [
    "statement = \"The coffee is bad\"\n",
    "if 'bad' in statement:\n",
    "    print(\"Bad review!\")\n",
    "\n",
    "statement2 = \"This phone works great\"\n",
    "if 'bad' not in statement2:\n",
    "    print(\"This is not a bad review\")\n"
   ]
  },
  {
   "cell_type": "markdown",
   "metadata": {},
   "source": [
    "### Poll 1"
   ]
  },
  {
   "cell_type": "markdown",
   "metadata": {},
   "source": [
    "## Functions\n",
    "\n",
    "+ Functions are <b>reusable piece of software</b>.\n",
    "+ Block of statements that <b>accepts some arguments, perform some functionality, and provides the output</b>.\n",
    "+ Defined using <font color='red'><b>def</b></font> keyword\n",
    "+ A function can take arguments.\n",
    "+ Arguments are specified within parentheses in function definition separated by commas.\n",
    "+ It is also possible to assign default values to parameters in order to make the program flexible and not behave in an unexpected manner.\n",
    "+ One of the most <b>powerful feature of functions is that it allows you to pass any number of arguments (*argv) and you do not have to worry about specifying the number when writing the function</b>. This feature becomes extremely important when dealing with lists or input data where you do not know number of data observations before hand.\n",
    "+ Scope of variables defined inside a function is <b>local</b> i.e. they cannot be used outside of a function.\n"
   ]
  },
  {
   "cell_type": "markdown",
   "metadata": {},
   "source": [
    "### Types of Functions\n",
    "+ System functions (Built-in Functions)\n",
    "+ User-defined functions\n",
    "+ Lambda functions"
   ]
  },
  {
   "cell_type": "markdown",
   "metadata": {},
   "source": [
    "### Hello world using Function"
   ]
  },
  {
   "cell_type": "code",
   "execution_count": null,
   "metadata": {},
   "outputs": [],
   "source": [
    "def scream():\n",
    "    print('Hello World!') # block belonging to the function\n",
    "scream()"
   ]
  },
  {
   "cell_type": "markdown",
   "metadata": {},
   "source": [
    "### Numerical operations using Function"
   ]
  },
  {
   "cell_type": "code",
   "execution_count": null,
   "metadata": {},
   "outputs": [],
   "source": [
    "def square(num):\n",
    "    out = num**2\n",
    "    return(out)"
   ]
  },
  {
   "cell_type": "code",
   "execution_count": null,
   "metadata": {},
   "outputs": [],
   "source": [
    "sq_3 = square(3)\n",
    "print(sq_3)"
   ]
  },
  {
   "cell_type": "markdown",
   "metadata": {},
   "source": [
    "### Default values of arguments"
   ]
  },
  {
   "cell_type": "code",
   "execution_count": null,
   "metadata": {},
   "outputs": [],
   "source": [
    "def printMax(a=5, b=10):\n",
    "   if a > b:\n",
    "       print(a, 'is maximum')\n",
    "   elif a == b:\n",
    "       print(a, 'is equal to', b)\n",
    "   else:\n",
    "       print(b, 'is maximum')\n",
    "\n",
    "printMax(2) "
   ]
  },
  {
   "cell_type": "markdown",
   "metadata": {},
   "source": [
    "### Recursive Functions"
   ]
  },
  {
   "cell_type": "code",
   "execution_count": null,
   "metadata": {},
   "outputs": [],
   "source": [
    "def factorial(n):\n",
    "    if n>1:\n",
    "        return n*factorial(n-1)\n",
    "    else:\n",
    "        return n\n",
    "\n",
    "fact = factorial(5)\n",
    "print(fact)"
   ]
  },
  {
   "cell_type": "markdown",
   "metadata": {},
   "source": [
    "### Dynamic number of arguments"
   ]
  },
  {
   "cell_type": "code",
   "execution_count": null,
   "metadata": {},
   "outputs": [],
   "source": [
    "def addition(*args):\n",
    "    print(args)\n",
    "    return(sum(args))"
   ]
  },
  {
   "cell_type": "code",
   "execution_count": null,
   "metadata": {},
   "outputs": [],
   "source": [
    "print(addition(4,5,6,7,8,9))\n",
    "print(addition(1,2))"
   ]
  },
  {
   "cell_type": "code",
   "execution_count": null,
   "metadata": {},
   "outputs": [],
   "source": [
    "def addition(**kwargs):    # dynamic number of keys and values\n",
    "    for key, value in kwargs.items():\n",
    "        print(key, value)\n",
    "\n",
    "addition(Age=20,Name='Rahul',subject='Maths')"
   ]
  },
  {
   "cell_type": "markdown",
   "metadata": {},
   "source": [
    "### Functions on Strings"
   ]
  },
  {
   "cell_type": "code",
   "execution_count": null,
   "metadata": {},
   "outputs": [],
   "source": [
    "def proper(s):\n",
    "    s = s.strip()\n",
    "    p = \"\"\n",
    "    for word in s.split():\n",
    "        p = p + \" \" + word[0].upper() + word[1:]\n",
    "    p = p.lstrip()\n",
    "    return p\n",
    "\n",
    "captain = proper(\"mahendra singh dhoni\")\n",
    "print(captain)"
   ]
  },
  {
   "cell_type": "markdown",
   "metadata": {},
   "source": [
    "### Lambda Function \n",
    "We use lambda functions when we require a nameless function for a short period of time.\n",
    "\n",
    "In Python, we generally use it as an argument to a higher-order function e.g. map, filter and reduce.\n",
    "\n",
    "A lambda function can take any number of arguments, but can only have one expression."
   ]
  },
  {
   "cell_type": "code",
   "execution_count": null,
   "metadata": {},
   "outputs": [],
   "source": [
    "def product_f(x,y):\n",
    "    return(x*y)\n",
    "\n",
    "print(product_f(3,4))"
   ]
  },
  {
   "cell_type": "code",
   "execution_count": null,
   "metadata": {},
   "outputs": [],
   "source": [
    "product = lambda x, y : x*y\n",
    "print(product(3,4))"
   ]
  },
  {
   "cell_type": "code",
   "execution_count": null,
   "metadata": {},
   "outputs": [],
   "source": [
    "cube = (lambda x:x**3)(4)\n",
    "print(cube)"
   ]
  },
  {
   "cell_type": "markdown",
   "metadata": {},
   "source": [
    "## Map, Filter, and Reduce\n",
    "+ All three of these are convenience functions that can be replaced with List Comprehensions or loops, but provide a **fast, more elegant and short-hand approach** to some problems. \n",
    "### Map\n",
    "+ Map is used when you need to map or implement functions on various elements at the same time.\n",
    "+ Comparing performance , map() wins! map() works way faster than for loop.\n",
    "+ The advantage of the lambda operator can be seen when it is used in combination with the map() function.\n",
    "+ map() is a function with two arguments:\n",
    "+ **r = map(func, seq)**\n",
    "+ The first argument func is the name of a function and the second a sequence (e.g. a list) seq. map() applies the function func to all the elements of the sequence seq. \n",
    "+ It returns a new list with the elements changed by func"
   ]
  },
  {
   "cell_type": "code",
   "execution_count": null,
   "metadata": {},
   "outputs": [],
   "source": [
    "# Find square of each element\n",
    "first_list = [2, 4, 5]\n",
    "print(first_list**2)"
   ]
  },
  {
   "cell_type": "code",
   "execution_count": null,
   "metadata": {},
   "outputs": [],
   "source": [
    "first_list = [2, 4, 5]"
   ]
  },
  {
   "cell_type": "code",
   "execution_count": null,
   "metadata": {},
   "outputs": [],
   "source": [
    "# Do it with map\n",
    "print(list(map(lambda x: x**2, first_list)))"
   ]
  },
  {
   "cell_type": "code",
   "execution_count": null,
   "metadata": {},
   "outputs": [],
   "source": [
    "# Any other function can also be passed to map instead of lambda\n",
    "def squareit(n):\n",
    "    return n**2\n",
    "print(list(map(squareit, first_list)))"
   ]
  },
  {
   "cell_type": "code",
   "execution_count": null,
   "metadata": {},
   "outputs": [],
   "source": [
    "# Pairwise sum\n",
    "list1 = [3,5,9,7]   # lists should be of same length\n",
    "list2 = [4,5,6,7]  # It can also be a tuple\n",
    "print(list1 + list2)\n",
    "print(list(map(lambda x,y : x+y, list1, list2)))"
   ]
  },
  {
   "cell_type": "code",
   "execution_count": null,
   "metadata": {},
   "outputs": [],
   "source": [
    "# Join First Name and Last Name\n",
    "\n",
    "l1 = ['nikola', 'james', 'albert']\n",
    "l2 = ['tesla','watt','einstein']\n",
    "\n",
    "proper = lambda x, y: x + ' ' + y\n",
    "\n",
    "#proper = lambda x, y: x[0].upper() + x[1:] + ' ' + y[0].upper() + y[1:]\n",
    "print(list(map(proper, l1, l2)))"
   ]
  },
  {
   "cell_type": "markdown",
   "metadata": {},
   "source": [
    "### Filter\n",
    "+ The function filter(function, list) offers an elegant way to filter out all the elements of a list, for which the function function returns True.\n",
    "+ The function filter(f,l) needs a function f as its first argument. f returns a Boolean value, i.e. either True or False. This function will be applied to every element of the list l. Only if f returns True will the element of the list be included in the result list."
   ]
  },
  {
   "cell_type": "code",
   "execution_count": null,
   "metadata": {},
   "outputs": [],
   "source": [
    "# Filter\n",
    "my_list = [3,4,5,6,7,8,9]\n",
    "\n",
    "div = filter(lambda x:  x % 3 == 0, my_list)\n",
    "print(list(div))"
   ]
  },
  {
   "cell_type": "code",
   "execution_count": null,
   "metadata": {},
   "outputs": [],
   "source": [
    "# Find elements in a list starting with 'S'\n",
    "\n",
    "input_list = ['San Jose', 'San Francisco', 'Santa Fe', 'Houston']\n",
    "S = list(filter(lambda x: x[0].upper() == 'S', input_list))\n",
    "print(S)\n",
    "\n",
    "# Find total number of elements in a list starting with 'S'\n",
    "\n",
    "count = len(S)\n",
    "print(count)"
   ]
  },
  {
   "cell_type": "markdown",
   "metadata": {},
   "source": [
    "### Reduce\n",
    "+ The function reduce(func, seq) continually applies the function func() to the sequence seq. It returns a single value."
   ]
  },
  {
   "cell_type": "code",
   "execution_count": null,
   "metadata": {},
   "outputs": [],
   "source": [
    "# Reduce : Incrementally sum\n",
    "\n",
    "from functools import reduce\n",
    "\n",
    "q  = reduce(lambda x,y: x + y, [47,11,42,13])\n",
    "print(q)"
   ]
  },
  {
   "cell_type": "code",
   "execution_count": null,
   "metadata": {},
   "outputs": [],
   "source": [
    "# Find sum of first 100 natural numbers\n",
    "reduce(lambda x,y: x + y, range(1,101))"
   ]
  },
  {
   "cell_type": "code",
   "execution_count": null,
   "metadata": {},
   "outputs": [],
   "source": [
    "# Find the maximum number\n",
    "list_of_nums = [22,45,32,20,87,94,30]\n",
    "print(reduce(lambda x,y: x if (x>y) else y, list_of_nums))"
   ]
  },
  {
   "cell_type": "code",
   "execution_count": null,
   "metadata": {},
   "outputs": [],
   "source": [
    "# Iteration happening Implicitly\n",
    "# No need to write explicit tool for bulk data"
   ]
  },
  {
   "cell_type": "markdown",
   "metadata": {},
   "source": [
    "### Poll 2"
   ]
  },
  {
   "cell_type": "markdown",
   "metadata": {},
   "source": [
    "## Objects and Classes"
   ]
  },
  {
   "cell_type": "code",
   "execution_count": null,
   "metadata": {},
   "outputs": [],
   "source": [
    "class employee:\n",
    "    def __init__(self, first, last, sal):\n",
    "        self.fname = first\n",
    "        self.lname = last\n",
    "        self.sal = sal\n",
    "        self.email = first + '.' + last + '@company.com'\n",
    " \n",
    "emp_1 = employee('aayushi','johari', 350000)\n",
    "emp_2 = employee('test','test', 100000)\n",
    "print(emp_1.email)\n",
    "print(emp_2.email)"
   ]
  },
  {
   "cell_type": "markdown",
   "metadata": {},
   "source": [
    "### Methods"
   ]
  },
  {
   "cell_type": "code",
   "execution_count": null,
   "metadata": {},
   "outputs": [],
   "source": [
    "class employee:\n",
    "    def __init__(self, first, last, sal):\n",
    "        self.fname = first\n",
    "        self.lname = last\n",
    "        self.sal = sal\n",
    "        self.email = first + '.' + last + '@company.com'\n",
    " \n",
    "    def fullname(self):\n",
    "            return (self.fname +' '+ self.lname)\n",
    " \n",
    "emp_1 = employee('aayushi','johari',350000)\n",
    "emp_2 = employee('test','test',100000)\n",
    "print(emp_1.email)\n",
    "print(emp_2.email)\n",
    "print(emp_1.fullname())\n",
    "print(emp_2.fullname())"
   ]
  },
  {
   "cell_type": "markdown",
   "metadata": {},
   "source": [
    "### Inheritance"
   ]
  },
  {
   "cell_type": "code",
   "execution_count": null,
   "metadata": {},
   "outputs": [],
   "source": [
    "class developer(employee):\n",
    "    def __init__(self, first, last, sal, prog_lang):\n",
    "        super().__init__(first, last, sal)\n",
    "        self.prog_lang=prog_lang\n",
    " \n",
    "emp_1 = developer('aayushi', 'johari', 1000000, 'python')\n",
    "print(emp_1.prog_lang)\n",
    "print(emp_1.sal)\n",
    "print(emp_1.fullname())"
   ]
  },
  {
   "cell_type": "markdown",
   "metadata": {},
   "source": [
    "### Polymorphism"
   ]
  },
  {
   "cell_type": "code",
   "execution_count": null,
   "metadata": {},
   "outputs": [],
   "source": [
    "class manager(employee):\n",
    "    def fullname(self):\n",
    "            return (self.fname +' '+ self.lname+' Mgr ')\n",
    " \n",
    "emp_3 = manager('Sunil', 'Kumar', 2000000)\n",
    "print(emp_3.sal)\n",
    "print(emp_3.fullname())"
   ]
  },
  {
   "cell_type": "code",
   "execution_count": null,
   "metadata": {},
   "outputs": [],
   "source": [
    "class Animal:\n",
    "    def __init__(self,name):\n",
    "        self.name = name\n",
    "        def talk(self):\n",
    "            pass\n",
    "class Dog(Animal):\n",
    "    def talk(self):\n",
    "        print('Woof')\n",
    "class Cat(Animal):\n",
    "    def talk(self):\n",
    "        print('MEOW!')\n",
    "c = Cat('kitty')\n",
    "c.talk()\n",
    "d = Dog(Animal)\n",
    "d.talk()"
   ]
  },
  {
   "cell_type": "code",
   "execution_count": null,
   "metadata": {},
   "outputs": [],
   "source": []
  }
 ],
 "metadata": {
  "kernelspec": {
   "display_name": "Python 3",
   "language": "python",
   "name": "python3"
  },
  "language_info": {
   "codemirror_mode": {
    "name": "ipython",
    "version": 3
   },
   "file_extension": ".py",
   "mimetype": "text/x-python",
   "name": "python",
   "nbconvert_exporter": "python",
   "pygments_lexer": "ipython3",
   "version": "3.8.3"
  }
 },
 "nbformat": 4,
 "nbformat_minor": 2
}
